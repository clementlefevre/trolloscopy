{
 "cells": [
  {
   "cell_type": "code",
   "execution_count": 106,
   "metadata": {
    "collapsed": true
   },
   "outputs": [],
   "source": [
    "%matplotlib inline\n",
    "import numpy as np\n",
    "import pandas as pd\n",
    "from sklearn.decomposition import TruncatedSVD,PCA,RandomizedPCA\n",
    "from collections import Counter\n",
    "import re\n",
    "import matplotlib.pyplot as plt\n",
    "import matplotlib.cm as cm\n",
    "import matplotlib.colors as col\n",
    "from matplotlib.colors import LogNorm\n",
    "from datetime import date, timedelta,datetime\n",
    "import calendar\n",
    "from isoweek import Week\n",
    "import seaborn as sns\n",
    "from stop_words import get_stop_words\n",
    "pd.set_option('display.width', 500)\n",
    "pd.set_option('display.max_columns', 100)\n",
    "pd.set_option('display.notebook_repr_html', True)\n",
    "\n",
    "sns.set_style(\"whitegrid\")\n",
    "sns.set_context(\"poster\")\n",
    "\n",
    "\n",
    "from  config import *"
   ]
  },
  {
   "cell_type": "code",
   "execution_count": 2,
   "metadata": {
    "collapsed": true
   },
   "outputs": [],
   "source": [
    "authors = pd.read_csv(DATA_PATH+\"authors_id.csv\",index_col=0)\n",
    "authors=authors[['id','displayName']]\n",
    "df = pd.read_csv(DATA_PATH+\"all_content.csv\")\n",
    "stop_words_en = get_stop_words('en')"
   ]
  },
  {
   "cell_type": "code",
   "execution_count": 3,
   "metadata": {
    "collapsed": true
   },
   "outputs": [],
   "source": [
    "df = pd.merge(df,authors,left_on='author_id',right_on='id',how='inner')"
   ]
  },
  {
   "cell_type": "code",
   "execution_count": 4,
   "metadata": {
    "collapsed": false
   },
   "outputs": [],
   "source": [
    "df=df[['displayName','content','collection_id','created_at']]\n",
    "df.columns = ['author_name','content','collection_id','created_at']"
   ]
  },
  {
   "cell_type": "code",
   "execution_count": 5,
   "metadata": {
    "collapsed": false
   },
   "outputs": [
    {
     "data": {
      "text/html": [
       "<div>\n",
       "<table border=\"1\" class=\"dataframe\">\n",
       "  <thead>\n",
       "    <tr style=\"text-align: right;\">\n",
       "      <th></th>\n",
       "      <th>author_name</th>\n",
       "      <th>content</th>\n",
       "      <th>collection_id</th>\n",
       "      <th>created_at</th>\n",
       "    </tr>\n",
       "  </thead>\n",
       "  <tbody>\n",
       "    <tr>\n",
       "      <th>0</th>\n",
       "      <td>Kiev</td>\n",
       "      <td>NATO has already agreed (at 2pm EU time) to he...</td>\n",
       "      <td>81858342</td>\n",
       "      <td>1236267047</td>\n",
       "    </tr>\n",
       "  </tbody>\n",
       "</table>\n",
       "</div>"
      ],
      "text/plain": [
       "  author_name                                            content  collection_id  created_at\n",
       "0        Kiev  NATO has already agreed (at 2pm EU time) to he...       81858342  1236267047"
      ]
     },
     "execution_count": 5,
     "metadata": {},
     "output_type": "execute_result"
    }
   ],
   "source": [
    "df.head(1)"
   ]
  },
  {
   "cell_type": "code",
   "execution_count": 9,
   "metadata": {
    "collapsed": false
   },
   "outputs": [],
   "source": [
    "def word_count(df,author_name):\n",
    "    df1 = df[df.author_name==author_name]\n",
    "    content =df1.content.str.cat()\n",
    "    words = re.split(r'\\W+', content.lower())\n",
    "    words = filter(lambda x: x.isalpha(), words)\n",
    "    words = [word for word in words \n",
    "    if len(word) > 3 and word not in stop_words_en]\n",
    "    \n",
    "    word_count = Counter(words)\n",
    "    return word_count\n"
   ]
  },
  {
   "cell_type": "code",
   "execution_count": 10,
   "metadata": {
    "collapsed": false
   },
   "outputs": [],
   "source": [
    "author_list =['Iron Knee', 'christopher c','Francheska (Maya) Smith-Johnson',\n",
    " 'Njegos',\n",
    " 'maljoffre',\n",
    " 'Paul A. Myers',\n",
    " \"Paul Munton's Potimarron\",\n",
    " 'TylerDurden',\n",
    " 'Harold Godwinson',\n",
    " 'Ealing',\n",
    " 'MarkGB',\n",
    " 'rrrahul',\n",
    " 'Harry Lime',\n",
    " 'Gulliver',\n",
    " 'Good European',\n",
    " 'Judyw',\n",
    " 'Don10984408',\n",
    " 'Apostle',\n",
    " 'RiskAdjustedReturn',\n",
    " 'Ric']\n"
   ]
  },
  {
   "cell_type": "code",
   "execution_count": 27,
   "metadata": {
    "collapsed": false
   },
   "outputs": [
    {
     "name": "stdout",
     "output_type": "stream",
     "text": [
      "Number of unique words: 33971\n"
     ]
    },
    {
     "data": {
      "text/html": [
       "<div>\n",
       "<table border=\"1\" class=\"dataframe\">\n",
       "  <thead>\n",
       "    <tr style=\"text-align: right;\">\n",
       "      <th></th>\n",
       "      <th>Iron Knee</th>\n",
       "      <th>christopher c</th>\n",
       "      <th>Francheska (Maya) Smith-Johnson</th>\n",
       "      <th>Njegos</th>\n",
       "      <th>maljoffre</th>\n",
       "      <th>Paul A. Myers</th>\n",
       "      <th>Paul Munton's Potimarron</th>\n",
       "      <th>TylerDurden</th>\n",
       "      <th>Harold Godwinson</th>\n",
       "      <th>Ealing</th>\n",
       "      <th>MarkGB</th>\n",
       "      <th>rrrahul</th>\n",
       "      <th>Harry Lime</th>\n",
       "      <th>Gulliver</th>\n",
       "      <th>Good European</th>\n",
       "      <th>Judyw</th>\n",
       "      <th>Don10984408</th>\n",
       "      <th>Apostle</th>\n",
       "      <th>RiskAdjustedReturn</th>\n",
       "      <th>Ric</th>\n",
       "    </tr>\n",
       "  </thead>\n",
       "  <tbody>\n",
       "    <tr>\n",
       "      <th>aaib</th>\n",
       "      <td>0.0</td>\n",
       "      <td>0.000000</td>\n",
       "      <td>0.0</td>\n",
       "      <td>0.000000</td>\n",
       "      <td>0.000000</td>\n",
       "      <td>0.000000</td>\n",
       "      <td>0.000000</td>\n",
       "      <td>0.0</td>\n",
       "      <td>0.0</td>\n",
       "      <td>0.0</td>\n",
       "      <td>0.0</td>\n",
       "      <td>0.0</td>\n",
       "      <td>0.0</td>\n",
       "      <td>0.000000</td>\n",
       "      <td>0.0</td>\n",
       "      <td>0.000023</td>\n",
       "      <td>0.000000</td>\n",
       "      <td>0.00000</td>\n",
       "      <td>0.0</td>\n",
       "      <td>0.0</td>\n",
       "    </tr>\n",
       "    <tr>\n",
       "      <th>aamer</th>\n",
       "      <td>0.0</td>\n",
       "      <td>0.000000</td>\n",
       "      <td>0.0</td>\n",
       "      <td>0.000000</td>\n",
       "      <td>0.000000</td>\n",
       "      <td>0.000000</td>\n",
       "      <td>0.000000</td>\n",
       "      <td>0.0</td>\n",
       "      <td>0.0</td>\n",
       "      <td>0.0</td>\n",
       "      <td>0.0</td>\n",
       "      <td>0.0</td>\n",
       "      <td>0.0</td>\n",
       "      <td>0.000169</td>\n",
       "      <td>0.0</td>\n",
       "      <td>0.000000</td>\n",
       "      <td>0.000000</td>\n",
       "      <td>0.00000</td>\n",
       "      <td>0.0</td>\n",
       "      <td>0.0</td>\n",
       "    </tr>\n",
       "    <tr>\n",
       "      <th>aaron</th>\n",
       "      <td>0.0</td>\n",
       "      <td>0.000000</td>\n",
       "      <td>0.0</td>\n",
       "      <td>0.000000</td>\n",
       "      <td>0.000000</td>\n",
       "      <td>0.000018</td>\n",
       "      <td>0.000000</td>\n",
       "      <td>0.0</td>\n",
       "      <td>0.0</td>\n",
       "      <td>0.0</td>\n",
       "      <td>0.0</td>\n",
       "      <td>0.0</td>\n",
       "      <td>0.0</td>\n",
       "      <td>0.000000</td>\n",
       "      <td>0.0</td>\n",
       "      <td>0.000000</td>\n",
       "      <td>0.000000</td>\n",
       "      <td>0.00000</td>\n",
       "      <td>0.0</td>\n",
       "      <td>0.0</td>\n",
       "    </tr>\n",
       "    <tr>\n",
       "      <th>aarsal</th>\n",
       "      <td>0.0</td>\n",
       "      <td>0.000000</td>\n",
       "      <td>0.0</td>\n",
       "      <td>0.000000</td>\n",
       "      <td>0.000000</td>\n",
       "      <td>0.000000</td>\n",
       "      <td>0.000081</td>\n",
       "      <td>0.0</td>\n",
       "      <td>0.0</td>\n",
       "      <td>0.0</td>\n",
       "      <td>0.0</td>\n",
       "      <td>0.0</td>\n",
       "      <td>0.0</td>\n",
       "      <td>0.000000</td>\n",
       "      <td>0.0</td>\n",
       "      <td>0.000000</td>\n",
       "      <td>0.000000</td>\n",
       "      <td>0.00000</td>\n",
       "      <td>0.0</td>\n",
       "      <td>0.0</td>\n",
       "    </tr>\n",
       "    <tr>\n",
       "      <th>aawsat</th>\n",
       "      <td>0.0</td>\n",
       "      <td>0.000000</td>\n",
       "      <td>0.0</td>\n",
       "      <td>0.000031</td>\n",
       "      <td>0.000000</td>\n",
       "      <td>0.000000</td>\n",
       "      <td>0.000000</td>\n",
       "      <td>0.0</td>\n",
       "      <td>0.0</td>\n",
       "      <td>0.0</td>\n",
       "      <td>0.0</td>\n",
       "      <td>0.0</td>\n",
       "      <td>0.0</td>\n",
       "      <td>0.000000</td>\n",
       "      <td>0.0</td>\n",
       "      <td>0.000000</td>\n",
       "      <td>0.000000</td>\n",
       "      <td>0.00000</td>\n",
       "      <td>0.0</td>\n",
       "      <td>0.0</td>\n",
       "    </tr>\n",
       "    <tr>\n",
       "      <th>aawy</th>\n",
       "      <td>0.0</td>\n",
       "      <td>0.000000</td>\n",
       "      <td>0.0</td>\n",
       "      <td>0.000000</td>\n",
       "      <td>0.000000</td>\n",
       "      <td>0.000000</td>\n",
       "      <td>0.000000</td>\n",
       "      <td>0.0</td>\n",
       "      <td>0.0</td>\n",
       "      <td>0.0</td>\n",
       "      <td>0.0</td>\n",
       "      <td>0.0</td>\n",
       "      <td>0.0</td>\n",
       "      <td>0.000000</td>\n",
       "      <td>0.0</td>\n",
       "      <td>0.000000</td>\n",
       "      <td>0.000063</td>\n",
       "      <td>0.00000</td>\n",
       "      <td>0.0</td>\n",
       "      <td>0.0</td>\n",
       "    </tr>\n",
       "    <tr>\n",
       "      <th>abaaoud</th>\n",
       "      <td>0.0</td>\n",
       "      <td>0.000105</td>\n",
       "      <td>0.0</td>\n",
       "      <td>0.000000</td>\n",
       "      <td>0.000000</td>\n",
       "      <td>0.000000</td>\n",
       "      <td>0.000000</td>\n",
       "      <td>0.0</td>\n",
       "      <td>0.0</td>\n",
       "      <td>0.0</td>\n",
       "      <td>0.0</td>\n",
       "      <td>0.0</td>\n",
       "      <td>0.0</td>\n",
       "      <td>0.000000</td>\n",
       "      <td>0.0</td>\n",
       "      <td>0.000000</td>\n",
       "      <td>0.000000</td>\n",
       "      <td>0.00000</td>\n",
       "      <td>0.0</td>\n",
       "      <td>0.0</td>\n",
       "    </tr>\n",
       "    <tr>\n",
       "      <th>abaaoudcould</th>\n",
       "      <td>0.0</td>\n",
       "      <td>0.000021</td>\n",
       "      <td>0.0</td>\n",
       "      <td>0.000000</td>\n",
       "      <td>0.000000</td>\n",
       "      <td>0.000000</td>\n",
       "      <td>0.000000</td>\n",
       "      <td>0.0</td>\n",
       "      <td>0.0</td>\n",
       "      <td>0.0</td>\n",
       "      <td>0.0</td>\n",
       "      <td>0.0</td>\n",
       "      <td>0.0</td>\n",
       "      <td>0.000000</td>\n",
       "      <td>0.0</td>\n",
       "      <td>0.000000</td>\n",
       "      <td>0.000000</td>\n",
       "      <td>0.00000</td>\n",
       "      <td>0.0</td>\n",
       "      <td>0.0</td>\n",
       "    </tr>\n",
       "    <tr>\n",
       "      <th>abacab</th>\n",
       "      <td>0.0</td>\n",
       "      <td>0.000000</td>\n",
       "      <td>0.0</td>\n",
       "      <td>0.000000</td>\n",
       "      <td>0.000000</td>\n",
       "      <td>0.000000</td>\n",
       "      <td>0.000000</td>\n",
       "      <td>0.0</td>\n",
       "      <td>0.0</td>\n",
       "      <td>0.0</td>\n",
       "      <td>0.0</td>\n",
       "      <td>0.0</td>\n",
       "      <td>0.0</td>\n",
       "      <td>0.000169</td>\n",
       "      <td>0.0</td>\n",
       "      <td>0.000000</td>\n",
       "      <td>0.000000</td>\n",
       "      <td>0.00007</td>\n",
       "      <td>0.0</td>\n",
       "      <td>0.0</td>\n",
       "    </tr>\n",
       "    <tr>\n",
       "      <th>aback</th>\n",
       "      <td>0.0</td>\n",
       "      <td>0.000000</td>\n",
       "      <td>0.0</td>\n",
       "      <td>0.000016</td>\n",
       "      <td>0.000022</td>\n",
       "      <td>0.000000</td>\n",
       "      <td>0.000000</td>\n",
       "      <td>0.0</td>\n",
       "      <td>0.0</td>\n",
       "      <td>0.0</td>\n",
       "      <td>0.0</td>\n",
       "      <td>0.0</td>\n",
       "      <td>0.0</td>\n",
       "      <td>0.000000</td>\n",
       "      <td>0.0</td>\n",
       "      <td>0.000000</td>\n",
       "      <td>0.000000</td>\n",
       "      <td>0.00000</td>\n",
       "      <td>0.0</td>\n",
       "      <td>0.0</td>\n",
       "    </tr>\n",
       "  </tbody>\n",
       "</table>\n",
       "</div>"
      ],
      "text/plain": [
       "              Iron Knee  christopher c  Francheska (Maya) Smith-Johnson    Njegos  maljoffre  Paul A. Myers  Paul Munton's Potimarron  TylerDurden  Harold Godwinson  Ealing  MarkGB  rrrahul  Harry Lime  Gulliver  Good European     Judyw  Don10984408  Apostle  RiskAdjustedReturn  Ric\n",
       "aaib                0.0       0.000000                              0.0  0.000000   0.000000       0.000000                  0.000000          0.0               0.0     0.0     0.0      0.0         0.0  0.000000            0.0  0.000023     0.000000  0.00000                 0.0  0.0\n",
       "aamer               0.0       0.000000                              0.0  0.000000   0.000000       0.000000                  0.000000          0.0               0.0     0.0     0.0      0.0         0.0  0.000169            0.0  0.000000     0.000000  0.00000                 0.0  0.0\n",
       "aaron               0.0       0.000000                              0.0  0.000000   0.000000       0.000018                  0.000000          0.0               0.0     0.0     0.0      0.0         0.0  0.000000            0.0  0.000000     0.000000  0.00000                 0.0  0.0\n",
       "aarsal              0.0       0.000000                              0.0  0.000000   0.000000       0.000000                  0.000081          0.0               0.0     0.0     0.0      0.0         0.0  0.000000            0.0  0.000000     0.000000  0.00000                 0.0  0.0\n",
       "aawsat              0.0       0.000000                              0.0  0.000031   0.000000       0.000000                  0.000000          0.0               0.0     0.0     0.0      0.0         0.0  0.000000            0.0  0.000000     0.000000  0.00000                 0.0  0.0\n",
       "aawy                0.0       0.000000                              0.0  0.000000   0.000000       0.000000                  0.000000          0.0               0.0     0.0     0.0      0.0         0.0  0.000000            0.0  0.000000     0.000063  0.00000                 0.0  0.0\n",
       "abaaoud             0.0       0.000105                              0.0  0.000000   0.000000       0.000000                  0.000000          0.0               0.0     0.0     0.0      0.0         0.0  0.000000            0.0  0.000000     0.000000  0.00000                 0.0  0.0\n",
       "abaaoudcould        0.0       0.000021                              0.0  0.000000   0.000000       0.000000                  0.000000          0.0               0.0     0.0     0.0      0.0         0.0  0.000000            0.0  0.000000     0.000000  0.00000                 0.0  0.0\n",
       "abacab              0.0       0.000000                              0.0  0.000000   0.000000       0.000000                  0.000000          0.0               0.0     0.0     0.0      0.0         0.0  0.000169            0.0  0.000000     0.000000  0.00007                 0.0  0.0\n",
       "aback               0.0       0.000000                              0.0  0.000016   0.000022       0.000000                  0.000000          0.0               0.0     0.0     0.0      0.0         0.0  0.000000            0.0  0.000000     0.000000  0.00000                 0.0  0.0"
      ]
     },
     "execution_count": 27,
     "metadata": {},
     "output_type": "execute_result"
    }
   ],
   "source": [
    "word_df = pd.DataFrame()\n",
    "for author in author_list:\n",
    "    word_counter = word_count(df,author)\n",
    "    word_count_df = pd.DataFrame.from_dict(word_counter,\n",
    "                                     orient='index')\n",
    "#     file_df.columns = [fname.replace('input/papers/', '').replace('.txt', '')]\n",
    "    word_count_df.ix[:, 0] = word_count_df.values.flatten() / float(word_count_df.values.sum())\n",
    "    word_count_df.columns=[author]\n",
    "    word_df = pd.merge(word_df,word_count_df,left_index=True,right_index=True,how='outer')\n",
    "\n",
    "word_df = word_df.fillna(0)\n",
    "print \"Number of unique words: %s\" % len(word_df)\n",
    "word_df.head(10)"
   ]
  },
  {
   "cell_type": "code",
   "execution_count": 32,
   "metadata": {
    "collapsed": false
   },
   "outputs": [
    {
     "data": {
      "text/plain": [
       "(20, 33971)"
      ]
     },
     "execution_count": 32,
     "metadata": {},
     "output_type": "execute_result"
    }
   ],
   "source": [
    "data =word_df.T\n",
    "data.shape"
   ]
  },
  {
   "cell_type": "code",
   "execution_count": 95,
   "metadata": {
    "collapsed": true
   },
   "outputs": [],
   "source": [
    "labels = data.index.values"
   ]
  },
  {
   "cell_type": "code",
   "execution_count": 116,
   "metadata": {
    "collapsed": false
   },
   "outputs": [
    {
     "data": {
      "text/plain": [
       "(20, 15)"
      ]
     },
     "execution_count": 116,
     "metadata": {},
     "output_type": "execute_result"
    }
   ],
   "source": [
    "pca = TruncatedSVD(n_components=15, random_state=42)\n",
    "X = pca.fit_transform(data) \n",
    "X.shape"
   ]
  },
  {
   "cell_type": "code",
   "execution_count": 117,
   "metadata": {
    "collapsed": false
   },
   "outputs": [
    {
     "name": "stdout",
     "output_type": "stream",
     "text": [
      "0.897619370697\n"
     ]
    }
   ],
   "source": [
    "print pca.explained_variance_ratio_.sum()"
   ]
  },
  {
   "cell_type": "code",
   "execution_count": 118,
   "metadata": {
    "collapsed": false
   },
   "outputs": [
    {
     "data": {
      "text/plain": [
       "array([  1.76211312,  16.16859827,   9.78055399,   9.17471801,\n",
       "         7.71189797,   6.98352259,   6.23619663,   5.33806498,\n",
       "         4.90886818,   4.3843905 ,   4.13269868,   3.57685773,\n",
       "         3.39551126,   3.13954037,   3.06840479])"
      ]
     },
     "execution_count": 118,
     "metadata": {},
     "output_type": "execute_result"
    }
   ],
   "source": [
    "pca.explained_variance_ratio_*100"
   ]
  },
  {
   "cell_type": "code",
   "execution_count": 119,
   "metadata": {
    "collapsed": false
   },
   "outputs": [
    {
     "data": {
      "text/html": [
       "<div>\n",
       "<table border=\"1\" class=\"dataframe\">\n",
       "  <thead>\n",
       "    <tr style=\"text-align: right;\">\n",
       "      <th></th>\n",
       "      <th>name</th>\n",
       "      <th>pc1</th>\n",
       "      <th>pc2</th>\n",
       "      <th>pc3</th>\n",
       "      <th>pc4</th>\n",
       "      <th>pc5</th>\n",
       "      <th>pc6</th>\n",
       "      <th>pc7</th>\n",
       "      <th>pc8</th>\n",
       "      <th>pc9</th>\n",
       "      <th>pc10</th>\n",
       "      <th>pc11</th>\n",
       "      <th>pc12</th>\n",
       "      <th>pc13</th>\n",
       "      <th>pc14</th>\n",
       "      <th>pc15</th>\n",
       "    </tr>\n",
       "  </thead>\n",
       "  <tbody>\n",
       "    <tr>\n",
       "      <th>0</th>\n",
       "      <td>Iron Knee</td>\n",
       "      <td>0.025659</td>\n",
       "      <td>0.014439</td>\n",
       "      <td>-0.001978</td>\n",
       "      <td>-0.000603</td>\n",
       "      <td>-0.002548</td>\n",
       "      <td>0.004586</td>\n",
       "      <td>0.015620</td>\n",
       "      <td>-0.006133</td>\n",
       "      <td>0.010955</td>\n",
       "      <td>-0.002387</td>\n",
       "      <td>-0.001094</td>\n",
       "      <td>0.002178</td>\n",
       "      <td>-0.001157</td>\n",
       "      <td>-0.002369</td>\n",
       "      <td>-0.000844</td>\n",
       "    </tr>\n",
       "    <tr>\n",
       "      <th>1</th>\n",
       "      <td>christopher c</td>\n",
       "      <td>0.029750</td>\n",
       "      <td>-0.001058</td>\n",
       "      <td>-0.000358</td>\n",
       "      <td>0.006792</td>\n",
       "      <td>0.016035</td>\n",
       "      <td>0.011337</td>\n",
       "      <td>-0.003212</td>\n",
       "      <td>-0.008140</td>\n",
       "      <td>0.001197</td>\n",
       "      <td>0.003067</td>\n",
       "      <td>0.002583</td>\n",
       "      <td>-0.001282</td>\n",
       "      <td>0.000052</td>\n",
       "      <td>0.002319</td>\n",
       "      <td>-0.000599</td>\n",
       "    </tr>\n",
       "    <tr>\n",
       "      <th>2</th>\n",
       "      <td>Francheska (Maya) Smith-Johnson</td>\n",
       "      <td>0.027409</td>\n",
       "      <td>0.015958</td>\n",
       "      <td>-0.001106</td>\n",
       "      <td>0.003836</td>\n",
       "      <td>-0.000742</td>\n",
       "      <td>-0.007315</td>\n",
       "      <td>0.003874</td>\n",
       "      <td>0.004261</td>\n",
       "      <td>-0.003814</td>\n",
       "      <td>0.006052</td>\n",
       "      <td>0.012718</td>\n",
       "      <td>0.000302</td>\n",
       "      <td>0.004419</td>\n",
       "      <td>0.001566</td>\n",
       "      <td>0.001124</td>\n",
       "    </tr>\n",
       "    <tr>\n",
       "      <th>3</th>\n",
       "      <td>Njegos</td>\n",
       "      <td>0.025015</td>\n",
       "      <td>0.006479</td>\n",
       "      <td>0.003335</td>\n",
       "      <td>0.002260</td>\n",
       "      <td>0.002021</td>\n",
       "      <td>-0.000044</td>\n",
       "      <td>-0.003351</td>\n",
       "      <td>0.000650</td>\n",
       "      <td>-0.002085</td>\n",
       "      <td>0.002035</td>\n",
       "      <td>0.000203</td>\n",
       "      <td>-0.000591</td>\n",
       "      <td>0.000106</td>\n",
       "      <td>0.000899</td>\n",
       "      <td>-0.000883</td>\n",
       "    </tr>\n",
       "    <tr>\n",
       "      <th>4</th>\n",
       "      <td>maljoffre</td>\n",
       "      <td>0.024367</td>\n",
       "      <td>0.005084</td>\n",
       "      <td>0.002426</td>\n",
       "      <td>0.002400</td>\n",
       "      <td>-0.001167</td>\n",
       "      <td>-0.001708</td>\n",
       "      <td>-0.002764</td>\n",
       "      <td>0.000906</td>\n",
       "      <td>-0.001635</td>\n",
       "      <td>-0.000197</td>\n",
       "      <td>-0.002521</td>\n",
       "      <td>0.000284</td>\n",
       "      <td>-0.001413</td>\n",
       "      <td>-0.000003</td>\n",
       "      <td>-0.000297</td>\n",
       "    </tr>\n",
       "  </tbody>\n",
       "</table>\n",
       "</div>"
      ],
      "text/plain": [
       "                              name       pc1       pc2       pc3       pc4       pc5       pc6       pc7       pc8       pc9      pc10      pc11      pc12      pc13      pc14      pc15\n",
       "0                        Iron Knee  0.025659  0.014439 -0.001978 -0.000603 -0.002548  0.004586  0.015620 -0.006133  0.010955 -0.002387 -0.001094  0.002178 -0.001157 -0.002369 -0.000844\n",
       "1                    christopher c  0.029750 -0.001058 -0.000358  0.006792  0.016035  0.011337 -0.003212 -0.008140  0.001197  0.003067  0.002583 -0.001282  0.000052  0.002319 -0.000599\n",
       "2  Francheska (Maya) Smith-Johnson  0.027409  0.015958 -0.001106  0.003836 -0.000742 -0.007315  0.003874  0.004261 -0.003814  0.006052  0.012718  0.000302  0.004419  0.001566  0.001124\n",
       "3                           Njegos  0.025015  0.006479  0.003335  0.002260  0.002021 -0.000044 -0.003351  0.000650 -0.002085  0.002035  0.000203 -0.000591  0.000106  0.000899 -0.000883\n",
       "4                        maljoffre  0.024367  0.005084  0.002426  0.002400 -0.001167 -0.001708 -0.002764  0.000906 -0.001635 -0.000197 -0.002521  0.000284 -0.001413 -0.000003 -0.000297"
      ]
     },
     "execution_count": 119,
     "metadata": {},
     "output_type": "execute_result"
    }
   ],
   "source": [
    "df = pd.DataFrame({\"name\":labels})\n",
    "for i in range(pca.explained_variance_ratio_.shape[0]):\n",
    "    df[\"pc%i\" % (i+1)] =X[:,i]\n",
    "df.head()"
   ]
  },
  {
   "cell_type": "code",
   "execution_count": 120,
   "metadata": {
    "collapsed": false
   },
   "outputs": [
    {
     "name": "stdout",
     "output_type": "stream",
     "text": [
      "['Iron Knee', 'christopher c', 'Francheska (Maya) Smith-Johnson', 'Njegos', 'maljoffre', 'Paul A. Myers', \"Paul Munton's Potimarron\", 'TylerDurden', 'Harold Godwinson', 'Ealing', 'MarkGB', 'rrrahul', 'Harry Lime', 'Gulliver', 'Good European', 'Judyw', 'Don10984408', 'Apostle', 'RiskAdjustedReturn', 'Ric']\n"
     ]
    }
   ],
   "source": [
    "print labels.tolist()"
   ]
  },
  {
   "cell_type": "code",
   "execution_count": 125,
   "metadata": {
    "collapsed": false
   },
   "outputs": [
    {
     "data": {
      "text/plain": [
       "<matplotlib.legend.Legend at 0x7f5ca9847b10>"
      ]
     },
     "execution_count": 125,
     "metadata": {},
     "output_type": "execute_result"
    },
    {
     "data": {
      "image/png": "[encoded data removed]",
      "text/plain": [
       "<matplotlib.figure.Figure at 0x7f5ca98473d0>"
      ]
     },
     "metadata": {},
     "output_type": "display_data"
    }
   ],
   "source": [
    "c0=sns.color_palette()[0]\n",
    "c1=sns.color_palette()[1]\n",
    "c2=sns.color_palette()[2]\n",
    "colors = [c0, c2]\n",
    "\n",
    "fig, ax = plt.subplots() \n",
    "ax.scatter(df['pc1'], df['pc2'], c=color,s=300)\n",
    "ax.set_xlim(.02, .04)\n",
    "ax.set_ylim(-.02, .02)\n",
    "\n",
    "\n",
    "\n",
    "for i, txt in enumerate(labels.tolist()):\n",
    "    ax.annotate(txt, (df['pc1'].iloc[i]+.0003,df['pc2'].iloc[i]+.0002),fontsize=10,verticalalignment='top',horizontalalignment='left')\n",
    "plt.legend()"
   ]
  },
  {
   "cell_type": "code",
   "execution_count": null,
   "metadata": {
    "collapsed": true
   },
   "outputs": [],
   "source": []
  }
 ],
 "metadata": {
  "kernelspec": {
   "display_name": "Python 2",
   "language": "python",
   "name": "python2"
  },
  "language_info": {
   "codemirror_mode": {
    "name": "ipython",
    "version": 2
   },
   "file_extension": ".py",
   "mimetype": "text/x-python",
   "name": "python",
   "nbconvert_exporter": "python",
   "pygments_lexer": "ipython2",
   "version": "2.7.12"
  }
 },
 "nbformat": 4,
 "nbformat_minor": 0
}
