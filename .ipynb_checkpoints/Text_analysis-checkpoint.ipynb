{
 "cells": [
  {
   "cell_type": "code",
   "execution_count": 154,
   "metadata": {
    "collapsed": true
   },
   "outputs": [],
   "source": [
    "%matplotlib inline\n",
    "import numpy as np\n",
    "import pandas as pd\n",
    "from sklearn.decomposition import TruncatedSVD,PCA,RandomizedPCA\n",
    "from collections import Counter\n",
    "import re\n",
    "import matplotlib.pyplot as plt\n",
    "import matplotlib.cm as cm\n",
    "import matplotlib.colors as col\n",
    "from matplotlib.colors import LogNorm\n",
    "from mpl_toolkits.mplot3d import Axes3D\n",
    "from datetime import date, timedelta,datetime\n",
    "import calendar\n",
    "from isoweek import Week\n",
    "import seaborn as sns\n",
    "from stop_words import get_stop_words\n",
    "pd.set_option('display.width', 500)\n",
    "pd.set_option('display.max_columns', 100)\n",
    "pd.set_option('display.notebook_repr_html', True)\n",
    "\n",
    "sns.set_style(\"whitegrid\")\n",
    "sns.set_context(\"poster\")\n",
    "\n",
    "\n",
    "from  config import *"
   ]
  },
  {
   "cell_type": "code",
   "execution_count": 155,
   "metadata": {
    "collapsed": true
   },
   "outputs": [],
   "source": [
    "authors = pd.read_csv(DATA_PATH+\"authors_id.csv\",index_col=0)\n",
    "authors=authors[['id','displayName']]\n",
    "df = pd.read_csv(DATA_PATH+\"all_content.csv\")\n",
    "stop_words_en = get_stop_words('en')"
   ]
  },
  {
   "cell_type": "code",
   "execution_count": 156,
   "metadata": {
    "collapsed": true
   },
   "outputs": [],
   "source": [
    "df = pd.merge(df,authors,left_on='author_id',right_on='id',how='inner')"
   ]
  },
  {
   "cell_type": "code",
   "execution_count": 157,
   "metadata": {
    "collapsed": false
   },
   "outputs": [],
   "source": [
    "df=df[['displayName','content','collection_id','created_at']]\n",
    "df.columns = ['author_name','content','collection_id','created_at']"
   ]
  },
  {
   "cell_type": "code",
   "execution_count": 158,
   "metadata": {
    "collapsed": false
   },
   "outputs": [
    {
     "data": {
      "text/html": [
       "<div>\n",
       "<table border=\"1\" class=\"dataframe\">\n",
       "  <thead>\n",
       "    <tr style=\"text-align: right;\">\n",
       "      <th></th>\n",
       "      <th>author_name</th>\n",
       "      <th>content</th>\n",
       "      <th>collection_id</th>\n",
       "      <th>created_at</th>\n",
       "    </tr>\n",
       "  </thead>\n",
       "  <tbody>\n",
       "    <tr>\n",
       "      <th>0</th>\n",
       "      <td>Kiev</td>\n",
       "      <td>NATO has already agreed (at 2pm EU time) to he...</td>\n",
       "      <td>81858342</td>\n",
       "      <td>1236267047</td>\n",
       "    </tr>\n",
       "  </tbody>\n",
       "</table>\n",
       "</div>"
      ],
      "text/plain": [
       "  author_name                                            content  collection_id  created_at\n",
       "0        Kiev  NATO has already agreed (at 2pm EU time) to he...       81858342  1236267047"
      ]
     },
     "execution_count": 158,
     "metadata": {},
     "output_type": "execute_result"
    }
   ],
   "source": [
    "df.head(1)"
   ]
  },
  {
   "cell_type": "code",
   "execution_count": 159,
   "metadata": {
    "collapsed": false
   },
   "outputs": [],
   "source": [
    "def word_count(df,author_name):\n",
    "    df1 = df[df.author_name==author_name]\n",
    "    content =df1.content.str.cat()\n",
    "    words = re.split(r'\\W+', content.lower())\n",
    "    words = filter(lambda x: x.isalpha(), words)\n",
    "    words = [word for word in words \n",
    "    if len(word) > 3 and word not in stop_words_en]\n",
    "    \n",
    "    word_count = Counter(words)\n",
    "    return word_count\n"
   ]
  },
  {
   "cell_type": "code",
   "execution_count": 160,
   "metadata": {
    "collapsed": false
   },
   "outputs": [],
   "source": [
    "author_list =['The real greybeard','Iron Knee', 'christopher c','Francheska (Maya) Smith-Johnson',\n",
    " 'Njegos',\n",
    " 'maljoffre',\n",
    " 'Paul A. Myers',\n",
    " \"Paul Munton's Potimarron\",\n",
    " 'TylerDurden',\n",
    " 'Harold Godwinson',\n",
    " 'Ealing',\n",
    " 'MarkGB',\n",
    " 'rrrahul',\n",
    " 'Harry Lime',\n",
    " 'Gulliver',\n",
    " 'Good European',\n",
    " 'Judyw',\n",
    " 'Don10984408',\n",
    " 'Apostle',\n",
    " 'RiskAdjustedReturn',\n",
    " 'Ric']\n"
   ]
  },
  {
   "cell_type": "code",
   "execution_count": 161,
   "metadata": {
    "collapsed": false
   },
   "outputs": [
    {
     "name": "stdout",
     "output_type": "stream",
     "text": [
      "Number of unique words: 34436\n"
     ]
    },
    {
     "data": {
      "text/html": [
       "<div>\n",
       "<table border=\"1\" class=\"dataframe\">\n",
       "  <thead>\n",
       "    <tr style=\"text-align: right;\">\n",
       "      <th></th>\n",
       "      <th>The real greybeard</th>\n",
       "      <th>Iron Knee</th>\n",
       "      <th>christopher c</th>\n",
       "      <th>Francheska (Maya) Smith-Johnson</th>\n",
       "      <th>Njegos</th>\n",
       "      <th>maljoffre</th>\n",
       "      <th>Paul A. Myers</th>\n",
       "      <th>Paul Munton's Potimarron</th>\n",
       "      <th>TylerDurden</th>\n",
       "      <th>Harold Godwinson</th>\n",
       "      <th>Ealing</th>\n",
       "      <th>MarkGB</th>\n",
       "      <th>rrrahul</th>\n",
       "      <th>Harry Lime</th>\n",
       "      <th>Gulliver</th>\n",
       "      <th>Good European</th>\n",
       "      <th>Judyw</th>\n",
       "      <th>Don10984408</th>\n",
       "      <th>Apostle</th>\n",
       "      <th>RiskAdjustedReturn</th>\n",
       "      <th>Ric</th>\n",
       "    </tr>\n",
       "  </thead>\n",
       "  <tbody>\n",
       "    <tr>\n",
       "      <th>aaib</th>\n",
       "      <td>0.0</td>\n",
       "      <td>0.0</td>\n",
       "      <td>0.000000</td>\n",
       "      <td>0.0</td>\n",
       "      <td>0.000000</td>\n",
       "      <td>0.000000</td>\n",
       "      <td>0.000000</td>\n",
       "      <td>0.000000</td>\n",
       "      <td>0.0</td>\n",
       "      <td>0.0</td>\n",
       "      <td>0.0</td>\n",
       "      <td>0.0</td>\n",
       "      <td>0.0</td>\n",
       "      <td>0.0</td>\n",
       "      <td>0.000000</td>\n",
       "      <td>0.0</td>\n",
       "      <td>0.000023</td>\n",
       "      <td>0.000000</td>\n",
       "      <td>0.00000</td>\n",
       "      <td>0.0</td>\n",
       "      <td>0.0</td>\n",
       "    </tr>\n",
       "    <tr>\n",
       "      <th>aamer</th>\n",
       "      <td>0.0</td>\n",
       "      <td>0.0</td>\n",
       "      <td>0.000000</td>\n",
       "      <td>0.0</td>\n",
       "      <td>0.000000</td>\n",
       "      <td>0.000000</td>\n",
       "      <td>0.000000</td>\n",
       "      <td>0.000000</td>\n",
       "      <td>0.0</td>\n",
       "      <td>0.0</td>\n",
       "      <td>0.0</td>\n",
       "      <td>0.0</td>\n",
       "      <td>0.0</td>\n",
       "      <td>0.0</td>\n",
       "      <td>0.000169</td>\n",
       "      <td>0.0</td>\n",
       "      <td>0.000000</td>\n",
       "      <td>0.000000</td>\n",
       "      <td>0.00000</td>\n",
       "      <td>0.0</td>\n",
       "      <td>0.0</td>\n",
       "    </tr>\n",
       "    <tr>\n",
       "      <th>aaron</th>\n",
       "      <td>0.0</td>\n",
       "      <td>0.0</td>\n",
       "      <td>0.000000</td>\n",
       "      <td>0.0</td>\n",
       "      <td>0.000000</td>\n",
       "      <td>0.000000</td>\n",
       "      <td>0.000018</td>\n",
       "      <td>0.000000</td>\n",
       "      <td>0.0</td>\n",
       "      <td>0.0</td>\n",
       "      <td>0.0</td>\n",
       "      <td>0.0</td>\n",
       "      <td>0.0</td>\n",
       "      <td>0.0</td>\n",
       "      <td>0.000000</td>\n",
       "      <td>0.0</td>\n",
       "      <td>0.000000</td>\n",
       "      <td>0.000000</td>\n",
       "      <td>0.00000</td>\n",
       "      <td>0.0</td>\n",
       "      <td>0.0</td>\n",
       "    </tr>\n",
       "    <tr>\n",
       "      <th>aarsal</th>\n",
       "      <td>0.0</td>\n",
       "      <td>0.0</td>\n",
       "      <td>0.000000</td>\n",
       "      <td>0.0</td>\n",
       "      <td>0.000000</td>\n",
       "      <td>0.000000</td>\n",
       "      <td>0.000000</td>\n",
       "      <td>0.000081</td>\n",
       "      <td>0.0</td>\n",
       "      <td>0.0</td>\n",
       "      <td>0.0</td>\n",
       "      <td>0.0</td>\n",
       "      <td>0.0</td>\n",
       "      <td>0.0</td>\n",
       "      <td>0.000000</td>\n",
       "      <td>0.0</td>\n",
       "      <td>0.000000</td>\n",
       "      <td>0.000000</td>\n",
       "      <td>0.00000</td>\n",
       "      <td>0.0</td>\n",
       "      <td>0.0</td>\n",
       "    </tr>\n",
       "    <tr>\n",
       "      <th>aawsat</th>\n",
       "      <td>0.0</td>\n",
       "      <td>0.0</td>\n",
       "      <td>0.000000</td>\n",
       "      <td>0.0</td>\n",
       "      <td>0.000031</td>\n",
       "      <td>0.000000</td>\n",
       "      <td>0.000000</td>\n",
       "      <td>0.000000</td>\n",
       "      <td>0.0</td>\n",
       "      <td>0.0</td>\n",
       "      <td>0.0</td>\n",
       "      <td>0.0</td>\n",
       "      <td>0.0</td>\n",
       "      <td>0.0</td>\n",
       "      <td>0.000000</td>\n",
       "      <td>0.0</td>\n",
       "      <td>0.000000</td>\n",
       "      <td>0.000000</td>\n",
       "      <td>0.00000</td>\n",
       "      <td>0.0</td>\n",
       "      <td>0.0</td>\n",
       "    </tr>\n",
       "    <tr>\n",
       "      <th>aawy</th>\n",
       "      <td>0.0</td>\n",
       "      <td>0.0</td>\n",
       "      <td>0.000000</td>\n",
       "      <td>0.0</td>\n",
       "      <td>0.000000</td>\n",
       "      <td>0.000000</td>\n",
       "      <td>0.000000</td>\n",
       "      <td>0.000000</td>\n",
       "      <td>0.0</td>\n",
       "      <td>0.0</td>\n",
       "      <td>0.0</td>\n",
       "      <td>0.0</td>\n",
       "      <td>0.0</td>\n",
       "      <td>0.0</td>\n",
       "      <td>0.000000</td>\n",
       "      <td>0.0</td>\n",
       "      <td>0.000000</td>\n",
       "      <td>0.000063</td>\n",
       "      <td>0.00000</td>\n",
       "      <td>0.0</td>\n",
       "      <td>0.0</td>\n",
       "    </tr>\n",
       "    <tr>\n",
       "      <th>abaaoud</th>\n",
       "      <td>0.0</td>\n",
       "      <td>0.0</td>\n",
       "      <td>0.000105</td>\n",
       "      <td>0.0</td>\n",
       "      <td>0.000000</td>\n",
       "      <td>0.000000</td>\n",
       "      <td>0.000000</td>\n",
       "      <td>0.000000</td>\n",
       "      <td>0.0</td>\n",
       "      <td>0.0</td>\n",
       "      <td>0.0</td>\n",
       "      <td>0.0</td>\n",
       "      <td>0.0</td>\n",
       "      <td>0.0</td>\n",
       "      <td>0.000000</td>\n",
       "      <td>0.0</td>\n",
       "      <td>0.000000</td>\n",
       "      <td>0.000000</td>\n",
       "      <td>0.00000</td>\n",
       "      <td>0.0</td>\n",
       "      <td>0.0</td>\n",
       "    </tr>\n",
       "    <tr>\n",
       "      <th>abaaoudcould</th>\n",
       "      <td>0.0</td>\n",
       "      <td>0.0</td>\n",
       "      <td>0.000021</td>\n",
       "      <td>0.0</td>\n",
       "      <td>0.000000</td>\n",
       "      <td>0.000000</td>\n",
       "      <td>0.000000</td>\n",
       "      <td>0.000000</td>\n",
       "      <td>0.0</td>\n",
       "      <td>0.0</td>\n",
       "      <td>0.0</td>\n",
       "      <td>0.0</td>\n",
       "      <td>0.0</td>\n",
       "      <td>0.0</td>\n",
       "      <td>0.000000</td>\n",
       "      <td>0.0</td>\n",
       "      <td>0.000000</td>\n",
       "      <td>0.000000</td>\n",
       "      <td>0.00000</td>\n",
       "      <td>0.0</td>\n",
       "      <td>0.0</td>\n",
       "    </tr>\n",
       "    <tr>\n",
       "      <th>abacab</th>\n",
       "      <td>0.0</td>\n",
       "      <td>0.0</td>\n",
       "      <td>0.000000</td>\n",
       "      <td>0.0</td>\n",
       "      <td>0.000000</td>\n",
       "      <td>0.000000</td>\n",
       "      <td>0.000000</td>\n",
       "      <td>0.000000</td>\n",
       "      <td>0.0</td>\n",
       "      <td>0.0</td>\n",
       "      <td>0.0</td>\n",
       "      <td>0.0</td>\n",
       "      <td>0.0</td>\n",
       "      <td>0.0</td>\n",
       "      <td>0.000169</td>\n",
       "      <td>0.0</td>\n",
       "      <td>0.000000</td>\n",
       "      <td>0.000000</td>\n",
       "      <td>0.00007</td>\n",
       "      <td>0.0</td>\n",
       "      <td>0.0</td>\n",
       "    </tr>\n",
       "    <tr>\n",
       "      <th>aback</th>\n",
       "      <td>0.0</td>\n",
       "      <td>0.0</td>\n",
       "      <td>0.000000</td>\n",
       "      <td>0.0</td>\n",
       "      <td>0.000016</td>\n",
       "      <td>0.000022</td>\n",
       "      <td>0.000000</td>\n",
       "      <td>0.000000</td>\n",
       "      <td>0.0</td>\n",
       "      <td>0.0</td>\n",
       "      <td>0.0</td>\n",
       "      <td>0.0</td>\n",
       "      <td>0.0</td>\n",
       "      <td>0.0</td>\n",
       "      <td>0.000000</td>\n",
       "      <td>0.0</td>\n",
       "      <td>0.000000</td>\n",
       "      <td>0.000000</td>\n",
       "      <td>0.00000</td>\n",
       "      <td>0.0</td>\n",
       "      <td>0.0</td>\n",
       "    </tr>\n",
       "  </tbody>\n",
       "</table>\n",
       "</div>"
      ],
      "text/plain": [
       "              The real greybeard  Iron Knee  christopher c  Francheska (Maya) Smith-Johnson    Njegos  maljoffre  Paul A. Myers  Paul Munton's Potimarron  TylerDurden  Harold Godwinson  Ealing  MarkGB  rrrahul  Harry Lime  Gulliver  Good European     Judyw  Don10984408  Apostle  RiskAdjustedReturn  Ric\n",
       "aaib                         0.0        0.0       0.000000                              0.0  0.000000   0.000000       0.000000                  0.000000          0.0               0.0     0.0     0.0      0.0         0.0  0.000000            0.0  0.000023     0.000000  0.00000                 0.0  0.0\n",
       "aamer                        0.0        0.0       0.000000                              0.0  0.000000   0.000000       0.000000                  0.000000          0.0               0.0     0.0     0.0      0.0         0.0  0.000169            0.0  0.000000     0.000000  0.00000                 0.0  0.0\n",
       "aaron                        0.0        0.0       0.000000                              0.0  0.000000   0.000000       0.000018                  0.000000          0.0               0.0     0.0     0.0      0.0         0.0  0.000000            0.0  0.000000     0.000000  0.00000                 0.0  0.0\n",
       "aarsal                       0.0        0.0       0.000000                              0.0  0.000000   0.000000       0.000000                  0.000081          0.0               0.0     0.0     0.0      0.0         0.0  0.000000            0.0  0.000000     0.000000  0.00000                 0.0  0.0\n",
       "aawsat                       0.0        0.0       0.000000                              0.0  0.000031   0.000000       0.000000                  0.000000          0.0               0.0     0.0     0.0      0.0         0.0  0.000000            0.0  0.000000     0.000000  0.00000                 0.0  0.0\n",
       "aawy                         0.0        0.0       0.000000                              0.0  0.000000   0.000000       0.000000                  0.000000          0.0               0.0     0.0     0.0      0.0         0.0  0.000000            0.0  0.000000     0.000063  0.00000                 0.0  0.0\n",
       "abaaoud                      0.0        0.0       0.000105                              0.0  0.000000   0.000000       0.000000                  0.000000          0.0               0.0     0.0     0.0      0.0         0.0  0.000000            0.0  0.000000     0.000000  0.00000                 0.0  0.0\n",
       "abaaoudcould                 0.0        0.0       0.000021                              0.0  0.000000   0.000000       0.000000                  0.000000          0.0               0.0     0.0     0.0      0.0         0.0  0.000000            0.0  0.000000     0.000000  0.00000                 0.0  0.0\n",
       "abacab                       0.0        0.0       0.000000                              0.0  0.000000   0.000000       0.000000                  0.000000          0.0               0.0     0.0     0.0      0.0         0.0  0.000169            0.0  0.000000     0.000000  0.00007                 0.0  0.0\n",
       "aback                        0.0        0.0       0.000000                              0.0  0.000016   0.000022       0.000000                  0.000000          0.0               0.0     0.0     0.0      0.0         0.0  0.000000            0.0  0.000000     0.000000  0.00000                 0.0  0.0"
      ]
     },
     "execution_count": 161,
     "metadata": {},
     "output_type": "execute_result"
    }
   ],
   "source": [
    "word_df = pd.DataFrame()\n",
    "for author in author_list:\n",
    "    word_counter = word_count(df,author)\n",
    "    word_count_df = pd.DataFrame.from_dict(word_counter,\n",
    "                                     orient='index')\n",
    "#     file_df.columns = [fname.replace('input/papers/', '').replace('.txt', '')]\n",
    "    word_count_df.ix[:, 0] = word_count_df.values.flatten() / float(word_count_df.values.sum())\n",
    "    word_count_df.columns=[author]\n",
    "    word_df = pd.merge(word_df,word_count_df,left_index=True,right_index=True,how='outer')\n",
    "\n",
    "word_df = word_df.fillna(0)\n",
    "print \"Number of unique words: %s\" % len(word_df)\n",
    "word_df.head(10)"
   ]
  },
  {
   "cell_type": "code",
   "execution_count": 162,
   "metadata": {
    "collapsed": false
   },
   "outputs": [
    {
     "data": {
      "text/plain": [
       "The real greybeard                 0.000048\n",
       "Iron Knee                          0.000179\n",
       "christopher c                      0.000000\n",
       "Francheska (Maya) Smith-Johnson    0.000362\n",
       "Njegos                             0.000204\n",
       "maljoffre                          0.000054\n",
       "Paul A. Myers                      0.000074\n",
       "Paul Munton's Potimarron           0.000041\n",
       "TylerDurden                        0.000000\n",
       "Harold Godwinson                   0.000058\n",
       "Ealing                             0.000330\n",
       "MarkGB                             0.000127\n",
       "rrrahul                            0.000000\n",
       "Harry Lime                         0.000000\n",
       "Gulliver                           0.000169\n",
       "Good European                      0.000070\n",
       "Judyw                              0.000047\n",
       "Don10984408                        0.000000\n",
       "Apostle                            0.000140\n",
       "RiskAdjustedReturn                 0.000034\n",
       "Ric                                0.000315\n",
       "Name: bias, dtype: float64"
      ]
     },
     "execution_count": 162,
     "metadata": {},
     "output_type": "execute_result"
    }
   ],
   "source": [
    "word_df.loc['bias']"
   ]
  },
  {
   "cell_type": "code",
   "execution_count": null,
   "metadata": {
    "collapsed": true
   },
   "outputs": [],
   "source": []
  },
  {
   "cell_type": "code",
   "execution_count": null,
   "metadata": {
    "collapsed": true
   },
   "outputs": [],
   "source": []
  },
  {
   "cell_type": "code",
   "execution_count": 163,
   "metadata": {
    "collapsed": false
   },
   "outputs": [
    {
     "data": {
      "text/plain": [
       "(21, 34436)"
      ]
     },
     "execution_count": 163,
     "metadata": {},
     "output_type": "execute_result"
    }
   ],
   "source": [
    "data =word_df.T\n",
    "data.shape"
   ]
  },
  {
   "cell_type": "code",
   "execution_count": 164,
   "metadata": {
    "collapsed": true
   },
   "outputs": [],
   "source": [
    "labels = data.index.values"
   ]
  },
  {
   "cell_type": "code",
   "execution_count": 183,
   "metadata": {
    "collapsed": false
   },
   "outputs": [
    {
     "data": {
      "text/plain": [
       "(21, 15)"
      ]
     },
     "execution_count": 183,
     "metadata": {},
     "output_type": "execute_result"
    }
   ],
   "source": [
    "pca = TruncatedSVD(n_components=15, random_state=42)\n",
    "X = pca.fit_transform(data) \n",
    "X.shape"
   ]
  },
  {
   "cell_type": "code",
   "execution_count": 184,
   "metadata": {
    "collapsed": false
   },
   "outputs": [
    {
     "name": "stdout",
     "output_type": "stream",
     "text": [
      "0.879501215212\n"
     ]
    }
   ],
   "source": [
    "print pca.explained_variance_ratio_.sum()"
   ]
  },
  {
   "cell_type": "code",
   "execution_count": 185,
   "metadata": {
    "collapsed": false
   },
   "outputs": [
    {
     "data": {
      "text/plain": [
       "array([  1.71722163,  15.84768486,   9.6466103 ,   9.00473519,\n",
       "         7.53182856,   6.83641765,   6.08700129,   5.21599691,\n",
       "         4.80193575,   4.27968274,   4.03447024,   3.53011448,\n",
       "         3.32079228,   3.10007294,   2.99555671])"
      ]
     },
     "execution_count": 185,
     "metadata": {},
     "output_type": "execute_result"
    }
   ],
   "source": [
    "pca.explained_variance_ratio_*100"
   ]
  },
  {
   "cell_type": "code",
   "execution_count": 168,
   "metadata": {
    "collapsed": false
   },
   "outputs": [
    {
     "data": {
      "text/html": [
       "<div>\n",
       "<table border=\"1\" class=\"dataframe\">\n",
       "  <thead>\n",
       "    <tr style=\"text-align: right;\">\n",
       "      <th></th>\n",
       "      <th>name</th>\n",
       "      <th>pc1</th>\n",
       "      <th>pc2</th>\n",
       "      <th>pc3</th>\n",
       "      <th>pc4</th>\n",
       "      <th>pc5</th>\n",
       "      <th>pc6</th>\n",
       "      <th>pc7</th>\n",
       "      <th>pc8</th>\n",
       "      <th>pc9</th>\n",
       "      <th>pc10</th>\n",
       "      <th>pc11</th>\n",
       "      <th>pc12</th>\n",
       "      <th>pc13</th>\n",
       "      <th>pc14</th>\n",
       "      <th>pc15</th>\n",
       "    </tr>\n",
       "  </thead>\n",
       "  <tbody>\n",
       "    <tr>\n",
       "      <th>0</th>\n",
       "      <td>The real greybeard</td>\n",
       "      <td>0.028222</td>\n",
       "      <td>0.002714</td>\n",
       "      <td>-0.003690</td>\n",
       "      <td>-0.002311</td>\n",
       "      <td>-0.000657</td>\n",
       "      <td>-0.001621</td>\n",
       "      <td>-0.000130</td>\n",
       "      <td>0.000973</td>\n",
       "      <td>0.001333</td>\n",
       "      <td>-0.000224</td>\n",
       "      <td>0.000403</td>\n",
       "      <td>-0.003266</td>\n",
       "      <td>-0.001345</td>\n",
       "      <td>-0.003393</td>\n",
       "      <td>0.000444</td>\n",
       "    </tr>\n",
       "    <tr>\n",
       "      <th>1</th>\n",
       "      <td>Iron Knee</td>\n",
       "      <td>0.025721</td>\n",
       "      <td>0.014307</td>\n",
       "      <td>-0.001591</td>\n",
       "      <td>-0.000100</td>\n",
       "      <td>-0.002412</td>\n",
       "      <td>0.004808</td>\n",
       "      <td>0.015623</td>\n",
       "      <td>-0.006000</td>\n",
       "      <td>0.010955</td>\n",
       "      <td>-0.002335</td>\n",
       "      <td>-0.001175</td>\n",
       "      <td>0.002493</td>\n",
       "      <td>0.001004</td>\n",
       "      <td>-0.002113</td>\n",
       "      <td>-0.001023</td>\n",
       "    </tr>\n",
       "    <tr>\n",
       "      <th>2</th>\n",
       "      <td>christopher c</td>\n",
       "      <td>0.029664</td>\n",
       "      <td>-0.001348</td>\n",
       "      <td>0.000954</td>\n",
       "      <td>0.007196</td>\n",
       "      <td>0.016135</td>\n",
       "      <td>0.011144</td>\n",
       "      <td>-0.003237</td>\n",
       "      <td>-0.008010</td>\n",
       "      <td>0.001459</td>\n",
       "      <td>0.003041</td>\n",
       "      <td>0.002624</td>\n",
       "      <td>-0.001296</td>\n",
       "      <td>0.000114</td>\n",
       "      <td>0.002237</td>\n",
       "      <td>-0.000442</td>\n",
       "    </tr>\n",
       "    <tr>\n",
       "      <th>3</th>\n",
       "      <td>Francheska (Maya) Smith-Johnson</td>\n",
       "      <td>0.027473</td>\n",
       "      <td>0.015801</td>\n",
       "      <td>-0.000343</td>\n",
       "      <td>0.004099</td>\n",
       "      <td>-0.000781</td>\n",
       "      <td>-0.007175</td>\n",
       "      <td>0.003899</td>\n",
       "      <td>0.004064</td>\n",
       "      <td>-0.004049</td>\n",
       "      <td>0.006054</td>\n",
       "      <td>0.012681</td>\n",
       "      <td>0.000668</td>\n",
       "      <td>-0.004083</td>\n",
       "      <td>0.002469</td>\n",
       "      <td>0.001094</td>\n",
       "    </tr>\n",
       "    <tr>\n",
       "      <th>4</th>\n",
       "      <td>Njegos</td>\n",
       "      <td>0.024993</td>\n",
       "      <td>0.006261</td>\n",
       "      <td>0.003890</td>\n",
       "      <td>0.002063</td>\n",
       "      <td>0.002021</td>\n",
       "      <td>-0.000029</td>\n",
       "      <td>-0.003346</td>\n",
       "      <td>0.000566</td>\n",
       "      <td>-0.002167</td>\n",
       "      <td>0.002041</td>\n",
       "      <td>0.000190</td>\n",
       "      <td>-0.000328</td>\n",
       "      <td>0.000089</td>\n",
       "      <td>0.001231</td>\n",
       "      <td>-0.000863</td>\n",
       "    </tr>\n",
       "  </tbody>\n",
       "</table>\n",
       "</div>"
      ],
      "text/plain": [
       "                              name       pc1       pc2       pc3       pc4       pc5       pc6       pc7       pc8       pc9      pc10      pc11      pc12      pc13      pc14      pc15\n",
       "0               The real greybeard  0.028222  0.002714 -0.003690 -0.002311 -0.000657 -0.001621 -0.000130  0.000973  0.001333 -0.000224  0.000403 -0.003266 -0.001345 -0.003393  0.000444\n",
       "1                        Iron Knee  0.025721  0.014307 -0.001591 -0.000100 -0.002412  0.004808  0.015623 -0.006000  0.010955 -0.002335 -0.001175  0.002493  0.001004 -0.002113 -0.001023\n",
       "2                    christopher c  0.029664 -0.001348  0.000954  0.007196  0.016135  0.011144 -0.003237 -0.008010  0.001459  0.003041  0.002624 -0.001296  0.000114  0.002237 -0.000442\n",
       "3  Francheska (Maya) Smith-Johnson  0.027473  0.015801 -0.000343  0.004099 -0.000781 -0.007175  0.003899  0.004064 -0.004049  0.006054  0.012681  0.000668 -0.004083  0.002469  0.001094\n",
       "4                           Njegos  0.024993  0.006261  0.003890  0.002063  0.002021 -0.000029 -0.003346  0.000566 -0.002167  0.002041  0.000190 -0.000328  0.000089  0.001231 -0.000863"
      ]
     },
     "execution_count": 168,
     "metadata": {},
     "output_type": "execute_result"
    }
   ],
   "source": [
    "df = pd.DataFrame({\"name\":labels})\n",
    "for i in range(pca.explained_variance_ratio_.shape[0]):\n",
    "    df[\"pc%i\" % (i+1)] =X[:,i]\n",
    "df.head()"
   ]
  },
  {
   "cell_type": "code",
   "execution_count": 169,
   "metadata": {
    "collapsed": false
   },
   "outputs": [
    {
     "name": "stdout",
     "output_type": "stream",
     "text": [
      "['The real greybeard', 'Iron Knee', 'christopher c', 'Francheska (Maya) Smith-Johnson', 'Njegos', 'maljoffre', 'Paul A. Myers', \"Paul Munton's Potimarron\", 'TylerDurden', 'Harold Godwinson', 'Ealing', 'MarkGB', 'rrrahul', 'Harry Lime', 'Gulliver', 'Good European', 'Judyw', 'Don10984408', 'Apostle', 'RiskAdjustedReturn', 'Ric']\n"
     ]
    }
   ],
   "source": [
    "print labels.tolist()"
   ]
  },
  {
   "cell_type": "code",
   "execution_count": 176,
   "metadata": {
    "collapsed": false
   },
   "outputs": [
    {
     "data": {
      "image/png": "[encoded data removed]",
      "text/plain": [
       "<matplotlib.figure.Figure at 0x7f5c935bc1d0>"
      ]
     },
     "metadata": {},
     "output_type": "display_data"
    }
   ],
   "source": [
    "c0=sns.color_palette()[0]\n",
    "c1=sns.color_palette()[1]\n",
    "c2=sns.color_palette()[2]\n",
    "colors = [c0, c2]\n",
    "\n",
    "xmin,xmax = df['pc1'].min(),df['pc1'].max()\n",
    "ymin,ymax = df['pc2'].min(),df['pc2'].max()\n",
    "\n",
    "fig, ax = plt.subplots() \n",
    "ax.set_axis_bgcolor(BACKGROUND_COLOR)\n",
    "fig.suptitle(\"PC1 vs PC2 \")\n",
    "ax.scatter(df['pc1'], df['pc2'], c=color,s=300)\n",
    "ax.set_xlim(xmin*0.9, xmax*1.1)\n",
    "ax.set_ylim(ymin*0.9,ymax*1.1)\n",
    "\n",
    "\n",
    "\n",
    "for i, txt in enumerate(labels.tolist()):\n",
    "    ax.annotate(txt, (df['pc1'].iloc[i]+.0003,df['pc2'].iloc[i]+.0008),fontsize=10,verticalalignment='top',horizontalalignment='left')\n"
   ]
  },
  {
   "cell_type": "code",
   "execution_count": 174,
   "metadata": {
    "collapsed": false
   },
   "outputs": [
    {
     "data": {
      "text/plain": [
       "(-0.02, 0.02)"
      ]
     },
     "execution_count": 174,
     "metadata": {},
     "output_type": "execute_result"
    },
    {
     "data": {
      "image/png": "[encoded data removed]",
      "text/plain": [
       "<matplotlib.figure.Figure at 0x7f5c92a30a90>"
      ]
     },
     "metadata": {},
     "output_type": "display_data"
    }
   ],
   "source": [
    "c0=sns.color_palette()[0]\n",
    "c1=sns.color_palette()[1]\n",
    "c2=sns.color_palette()[2]\n",
    "colors = [c0, c2]\n",
    "\n",
    "fig = plt.figure()\n",
    "ax = fig.add_subplot(111, projection='3d')\n",
    "ax.scatter(df['pc1'], df['pc2'],df['pc3'], c=c0,marker='o',s=50)\n",
    "ax.set_xlim(.02, .04)\n",
    "ax.set_ylim(-.02, .02)\n"
   ]
  },
  {
   "cell_type": "code",
   "execution_count": null,
   "metadata": {
    "collapsed": true
   },
   "outputs": [],
   "source": []
  }
 ],
 "metadata": {
  "kernelspec": {
   "display_name": "Python 2",
   "language": "python",
   "name": "python2"
  },
  "language_info": {
   "codemirror_mode": {
    "name": "ipython",
    "version": 2
   },
   "file_extension": ".py",
   "mimetype": "text/x-python",
   "name": "python",
   "nbconvert_exporter": "python",
   "pygments_lexer": "ipython2",
   "version": "2.7.12"
  }
 },
 "nbformat": 4,
 "nbformat_minor": 0
}
