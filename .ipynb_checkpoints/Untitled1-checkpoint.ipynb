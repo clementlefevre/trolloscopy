{
 "cells": [
  {
   "cell_type": "code",
   "execution_count": 2,
   "metadata": {
    "collapsed": false
   },
   "outputs": [
    {
     "name": "stdout",
     "output_type": "stream",
     "text": [
      "YjRkODI0ZDItN2RiMS0xMWU2LWJjNTItMGM3MjExZWYzMTk4\n"
     ]
    }
   ],
   "source": [
    "from url_encoder import url_encoder\n",
    "\n",
    "\n",
    "print url_encoder.vb(\"b4d824d2-7db1-11e6-bc52-0c7211ef3198\")"
   ]
  },
  {
   "cell_type": "code",
   "execution_count": 4,
   "metadata": {
    "collapsed": true
   },
   "outputs": [],
   "source": [
    "def get_livefyre_json(ft_article_hash):\n",
    "    return \"https://data.livefyre.com/bs3/v3.1/ft.fyre.co/378157/\"+url_encoder.vb(ft_article_hash)+\"/init\""
   ]
  },
  {
   "cell_type": "code",
   "execution_count": 6,
   "metadata": {
    "collapsed": false
   },
   "outputs": [
    {
     "name": "stdout",
     "output_type": "stream",
     "text": [
      "https://data.livefyre.com/bs3/v3.1/ft.fyre.co/378157/MDEzMjMtYTQwZS0zMzM5LWFjNmQtOGIwNGQzZGU3MGE./init\n"
     ]
    }
   ],
   "source": [
    "print get_livefyre_json(\"01323-a40e-3339-ac6d-8b04d3de70a\")"
   ]
  },
  {
   "cell_type": "code",
   "execution_count": 17,
   "metadata": {
    "collapsed": false
   },
   "outputs": [],
   "source": [
    "def rename_file():    \n",
    "    from os import listdir\n",
    "    from os.path import isfile,join\n",
    "    FT_ARTICLES_CSV = \"ft_articles_link/\"\n",
    "    articles_csv_list = [f for f in listdir(FT_ARTICLES_CSV) if isfile(join(FT_ARTICLES_CSV, f))]\n",
    "    for article in articles_csv_list :\n",
    "        if article.startswith(\"search\"):\n",
    "\n",
    "            os.rename(FT_ARTICLES_CSV+article, FT_ARTICLES_CSV+article.split(\"=\")[1])"
   ]
  }
 ],
 "metadata": {
  "kernelspec": {
   "display_name": "Python 2",
   "language": "python",
   "name": "python2"
  },
  "language_info": {
   "codemirror_mode": {
    "name": "ipython",
    "version": 2
   },
   "file_extension": ".py",
   "mimetype": "text/x-python",
   "name": "python",
   "nbconvert_exporter": "python",
   "pygments_lexer": "ipython2",
   "version": "2.7.12"
  }
 },
 "nbformat": 4,
 "nbformat_minor": 0
}
