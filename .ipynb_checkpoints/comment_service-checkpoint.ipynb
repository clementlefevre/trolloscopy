{
 "cells": [
  {
   "cell_type": "code",
   "execution_count": 16,
   "metadata": {
    "collapsed": true
   },
   "outputs": [],
   "source": [
    "from os import listdir\n",
    "from os.path import isfile, join\n",
    "import pandas as pd\n",
    "from collections import Counter\n",
    "\n",
    "from  config import DATA_PATH,RAW_PATH"
   ]
  },
  {
   "cell_type": "code",
   "execution_count": 9,
   "metadata": {
    "collapsed": false
   },
   "outputs": [],
   "source": [
    "def create_single_author_table():\n",
    "    df = pd.DataFrame()\n",
    "    authors_files = [f for f in listdir(DATA_PATH) if isfile(join(DATA_PATH, f))]\n",
    "    for filo in authors_files:\n",
    "        if \"authors\" in filo:\n",
    "            df1 = pd.read_csv(DATA_PATH+filo)\n",
    "            df1 = df1.drop_duplicates('id')\n",
    "            df = pd.concat([df,df1],axis=0)\n",
    "    df = df.drop_duplicates('id')\n",
    "    df.to_csv(\"authors_id.csv\")             "
   ]
  },
  {
   "cell_type": "code",
   "execution_count": 14,
   "metadata": {
    "collapsed": false
   },
   "outputs": [],
   "source": [
    "def create_single_comment_table():\n",
    "    df = pd.DataFrame()\n",
    "    authors_files = [f for f in listdir(DATA_PATH) if isfile(join(DATA_PATH, f))]\n",
    "    for filo in authors_files:\n",
    "        if \"content\" in filo:\n",
    "            df1 = pd.read_csv(DATA_PATH+filo)\n",
    "            df = pd.concat([df,df1],axis=0)\n",
    "    df.to_csv(\"all_content.csv\")\n",
    "\n",
    "            "
   ]
  },
  {
   "cell_type": "code",
   "execution_count": 10,
   "metadata": {
    "collapsed": false
   },
   "outputs": [],
   "source": [
    "create_single_author_table()"
   ]
  },
  {
   "cell_type": "code",
   "execution_count": 15,
   "metadata": {
    "collapsed": false
   },
   "outputs": [],
   "source": [
    "create_single_comment_table()"
   ]
  }
 ],
 "metadata": {
  "kernelspec": {
   "display_name": "Python 2",
   "language": "python",
   "name": "python2"
  },
  "language_info": {
   "codemirror_mode": {
    "name": "ipython",
    "version": 2
   },
   "file_extension": ".py",
   "mimetype": "text/x-python",
   "name": "python",
   "nbconvert_exporter": "python",
   "pygments_lexer": "ipython2",
   "version": "2.7.12"
  }
 },
 "nbformat": 4,
 "nbformat_minor": 0
}
