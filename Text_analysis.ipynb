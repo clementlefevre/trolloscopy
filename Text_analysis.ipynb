{
 "cells": [
  {
   "cell_type": "code",
   "execution_count": 2,
   "metadata": {
    "collapsed": true
   },
   "outputs": [],
   "source": [
    "%matplotlib inline\n",
    "import numpy as np\n",
    "import pandas as pd\n",
    "from collections import Counter\n",
    "import re\n",
    "import matplotlib.pyplot as plt\n",
    "import matplotlib.cm as cm\n",
    "import matplotlib.colors as col\n",
    "from matplotlib.colors import LogNorm\n",
    "from datetime import date, timedelta,datetime\n",
    "import calendar\n",
    "from isoweek import Week\n",
    "import seaborn as sns\n",
    "from stop_words import get_stop_words\n",
    "pd.set_option('display.width', 500)\n",
    "pd.set_option('display.max_columns', 100)\n",
    "pd.set_option('display.notebook_repr_html', True)\n",
    "\n",
    "sns.set_style(\"whitegrid\")\n",
    "sns.set_context(\"poster\")\n",
    "\n",
    "\n",
    "from  config import *"
   ]
  },
  {
   "cell_type": "code",
   "execution_count": 3,
   "metadata": {
    "collapsed": true
   },
   "outputs": [],
   "source": [
    "authors = pd.read_csv(DATA_PATH+\"authors_id.csv\",index_col=0)\n",
    "authors=authors[['id','displayName']]\n",
    "df = pd.read_csv(DATA_PATH+\"all_content.csv\")\n",
    "stop_words_en = get_stop_words('en')"
   ]
  },
  {
   "cell_type": "code",
   "execution_count": 4,
   "metadata": {
    "collapsed": true
   },
   "outputs": [],
   "source": [
    "df = pd.merge(df,authors,left_on='author_id',right_on='id',how='inner')"
   ]
  },
  {
   "cell_type": "code",
   "execution_count": 5,
   "metadata": {
    "collapsed": false
   },
   "outputs": [],
   "source": [
    "df=df[['displayName','content','collection_id','created_at']]\n",
    "df.columns = ['author_name','content','collection_id','created_at']"
   ]
  },
  {
   "cell_type": "code",
   "execution_count": 6,
   "metadata": {
    "collapsed": false
   },
   "outputs": [
    {
     "data": {
      "text/html": [
       "<div>\n",
       "<table border=\"1\" class=\"dataframe\">\n",
       "  <thead>\n",
       "    <tr style=\"text-align: right;\">\n",
       "      <th></th>\n",
       "      <th>author_name</th>\n",
       "      <th>content</th>\n",
       "      <th>collection_id</th>\n",
       "      <th>created_at</th>\n",
       "    </tr>\n",
       "  </thead>\n",
       "  <tbody>\n",
       "    <tr>\n",
       "      <th>0</th>\n",
       "      <td>Kiev</td>\n",
       "      <td>NATO has already agreed (at 2pm EU time) to he...</td>\n",
       "      <td>81858342</td>\n",
       "      <td>1236267047</td>\n",
       "    </tr>\n",
       "  </tbody>\n",
       "</table>\n",
       "</div>"
      ],
      "text/plain": [
       "  author_name                                            content  collection_id  created_at\n",
       "0        Kiev  NATO has already agreed (at 2pm EU time) to he...       81858342  1236267047"
      ]
     },
     "execution_count": 6,
     "metadata": {},
     "output_type": "execute_result"
    }
   ],
   "source": [
    "df.head(1)"
   ]
  },
  {
   "cell_type": "code",
   "execution_count": 7,
   "metadata": {
    "collapsed": false
   },
   "outputs": [],
   "source": [
    "df1 = df[df.author_name==\"Njegos\"]"
   ]
  },
  {
   "cell_type": "code",
   "execution_count": 8,
   "metadata": {
    "collapsed": false
   },
   "outputs": [],
   "source": [
    "content1 =df1.content.str.cat()\n"
   ]
  },
  {
   "cell_type": "code",
   "execution_count": 19,
   "metadata": {
    "collapsed": false
   },
   "outputs": [
    {
     "data": {
      "text/plain": [
       "['goldsack',\n",
       " 'the',\n",
       " 'question',\n",
       " 'now',\n",
       " 'is',\n",
       " 'whether',\n",
       " 'the',\n",
       " 'cure',\n",
       " 'is',\n",
       " 'worse',\n",
       " 'than',\n",
       " 'the',\n",
       " 'disease']"
      ]
     },
     "execution_count": 19,
     "metadata": {},
     "output_type": "execute_result"
    }
   ],
   "source": [
    "content2 = \"@Goldsack The question now is whether the cure is worse than the disease.@RandomCommenter7 \"\n",
    "words = re.split(r'\\W+', content2.lower())\n",
    "words = filter(lambda x: x.isalpha(), words)\n",
    "words"
   ]
  },
  {
   "cell_type": "code",
   "execution_count": 29,
   "metadata": {
    "collapsed": false
   },
   "outputs": [],
   "source": [
    "def word_count(df,author_name):\n",
    "    df1 = df[df.author_name==author_name]\n",
    "    content =df1.content.str.cat()\n",
    "    words = re.split(r'\\W+', content.lower())\n",
    "    words = filter(lambda x: x.isalpha(), words)\n",
    "    words = [word for word in words \n",
    "    if len(word) > 3 and word not in stop_words_en and word  not in authors.displayName.tolist()]\n",
    "    \n",
    "    word_count = Counter(words)\n",
    "    return word_count\n"
   ]
  },
  {
   "cell_type": "code",
   "execution_count": 30,
   "metadata": {
    "collapsed": false
   },
   "outputs": [],
   "source": [
    "author_list =['Iron Knee', 'christopher c','Francheska (Maya) Smith-Johnson',\n",
    " 'Njegos',\n",
    " 'maljoffre',\n",
    " 'Paul A. Myers',\n",
    " \"Paul Munton's Potimarron\",\n",
    " 'TylerDurden',\n",
    " 'Harold Godwinson',\n",
    " 'Ealing',\n",
    " 'MarkGB',\n",
    " 'rrrahul',\n",
    " 'Harry Lime',\n",
    " 'Gulliver',\n",
    " 'Good European',\n",
    " 'Judyw',\n",
    " 'Don10984408',\n",
    " 'Apostle',\n",
    " 'RiskAdjustedReturn',\n",
    " 'Ric']\n"
   ]
  },
  {
   "cell_type": "code",
   "execution_count": null,
   "metadata": {
    "collapsed": false
   },
   "outputs": [],
   "source": [
    "word_df = pd.DataFrame()\n",
    "for author in author_list:\n",
    "    word_counter = word_count(df,author)\n",
    "    word_count_df = pd.DataFrame.from_dict(word_counter,\n",
    "                                     orient='index')\n",
    "#     file_df.columns = [fname.replace('input/papers/', '').replace('.txt', '')]\n",
    "    word_count_df.ix[:, 0] = word_count_df.values.flatten() / float(word_count_df.values.sum())\n",
    "    word_count_df.columns=[author]\n",
    "    word_df = pd.merge(word_df,word_count_df,left_index=True,right_index=True,how='outer')\n",
    "\n",
    "word_df = word_df.fillna(0)\n",
    "print \"Number of unique words: %s\" % len(word_df)\n",
    "word_df.head(10)"
   ]
  },
  {
   "cell_type": "code",
   "execution_count": null,
   "metadata": {
    "collapsed": false
   },
   "outputs": [],
   "source": [
    "U, sigma, V = np.linalg.svd(word_df)"
   ]
  },
  {
   "cell_type": "code",
   "execution_count": null,
   "metadata": {
    "collapsed": true
   },
   "outputs": [],
   "source": [
    "\n",
    "v_df = pd.DataFrame(V, columns=word_df.columns)\n",
    "v_df.apply(lambda x: np.round(x, decimals=2))"
   ]
  },
  {
   "cell_type": "code",
   "execution_count": null,
   "metadata": {
    "collapsed": true
   },
   "outputs": [],
   "source": [
    "plt.imshow(V, interpolation='none')\n",
    "ax = plt.gca()\n",
    "plt.xticks(xrange(len(v_df.columns.values)))\n",
    "plt.yticks(xrange(len(v_df.index.values)))\n",
    "plt.title(\"$V$\")\n",
    "ax.set_xticklabels(v_df.columns.values, rotation=90)\n",
    "plt.colorbar();"
   ]
  },
  {
   "cell_type": "code",
   "execution_count": null,
   "metadata": {
    "collapsed": true
   },
   "outputs": [],
   "source": []
  }
 ],
 "metadata": {
  "kernelspec": {
   "display_name": "Python 2",
   "language": "python",
   "name": "python2"
  },
  "language_info": {
   "codemirror_mode": {
    "name": "ipython",
    "version": 2
   },
   "file_extension": ".py",
   "mimetype": "text/x-python",
   "name": "python",
   "nbconvert_exporter": "python",
   "pygments_lexer": "ipython2",
   "version": "2.7.12"
  }
 },
 "nbformat": 4,
 "nbformat_minor": 0
}
