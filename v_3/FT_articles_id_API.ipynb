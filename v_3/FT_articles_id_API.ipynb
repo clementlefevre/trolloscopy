{
 "cells": [
  {
   "cell_type": "markdown",
   "metadata": {},
   "source": [
    "# FT Articles ID API (Headlines)"
   ]
  },
  {
   "cell_type": "markdown",
   "metadata": {},
   "source": [
    "## Retrieve FT Articles ID"
   ]
  },
  {
   "cell_type": "code",
   "execution_count": null,
   "metadata": {},
   "outputs": [],
   "source": [
    "import requests\n",
    "import time\n",
    "import datetime\n",
    "import json\n",
    "import pandas as pd\n",
    "import pickle\n",
    "import sqlite3\n",
    "from dateutil.relativedelta import relativedelta"
   ]
  },
  {
   "cell_type": "markdown",
   "metadata": {},
   "source": [
    "Second trial with FT comments section scraping\n",
    "- retrieve the article ID of the ft via http://api.ft.com/content/search/v1 (with headers X-Api-Key:k_E_Y)\n",
    "- retrieve corresponding livefyre comments ID via https://session-user-data.webservices.ft.com/v1/livefyre/get_lf_bootstrap?uuid=ARTICLE_ID\n",
    "- retrieve comments via https://bootstrap.ft.fyre.co/bs3/ft.fyre.co/378157/LIVEFYRE_ID/init"
   ]
  },
  {
   "cell_type": "code",
   "execution_count": null,
   "metadata": {},
   "outputs": [],
   "source": [
    "FT_API_KEY = '59cbaf20e3e06d3565778e7b8833135b219f49c7b6e4965e5c22cae5'\n",
    "\n",
    "## THE FT HEADLINE API DOES NOT ALLOW MUCH combined topics search, thus split them :\n",
    "#TOPICS = ['Russia', 'Syria','Trump', 'Crimea', 'Ukraine','Oil']\n",
    "#TOPICS = ['Afd', 'Assad', 'Brexit', 'Doping', 'Gazprom']\n",
    "#TOPICS = [ 'Georgia', 'IOC', 'Le+Pen', 'Merkel']\n",
    "TOPICS = ['MH17', 'NATO', 'Obama', 'Putin', 'Refugees']\n",
    "TOPICS = ['Mueller', 'Flynn', 'Manafort', 'Cohen']\n"
   ]
  },
  {
   "cell_type": "code",
   "execution_count": null,
   "metadata": {},
   "outputs": [],
   "source": [
    "TOPICS_string = ' OR '.join(TOPICS)\n",
    "TOPICS_string"
   ]
  },
  {
   "cell_type": "code",
   "execution_count": null,
   "metadata": {},
   "outputs": [],
   "source": [
    "dates= pd.date_range('2014-01-01','2019-01-01' , freq='1M')-pd.offsets.MonthBegin(1)\n",
    "dates"
   ]
  },
  {
   "cell_type": "code",
   "execution_count": null,
   "metadata": {},
   "outputs": [],
   "source": [
    "def set_date_range(start_date):\n",
    "    start_date = start_date\n",
    "    start_date_string = \"lastPublishDateTime:>{0}T00:00:00Z\".format(start_date.strftime(\"%Y-%m-%d\"))\n",
    "    end_date = start_date + relativedelta(months=+1,days=+1)\n",
    "    end_date_string = \"lastPublishDateTime:<{0}T00:00:00Z\".format(end_date.strftime(\"%Y-%m-%d\"))\n",
    "    string_date_range = \" AND \"+ start_date_string + \" AND \" +end_date_string\n",
    "    return string_date_range"
   ]
  },
  {
   "cell_type": "code",
   "execution_count": null,
   "metadata": {},
   "outputs": [],
   "source": [
    "def get_FT_ID(query_string,offset=0):\n",
    "    print('offset :',str(offset))\n",
    "    FT_ID =[]\n",
    "    number_results = 0\n",
    "    url = 'http://api.ft.com/content/search/v1'\n",
    "    headers = {'X-Api-Key': FT_API_KEY }\n",
    "    body={\"queryString\": query_string,\"queryContext\" : {\"curations\" : [\"ARTICLES\"]}, \"resultContext\": {\"offset\": offset}}\n",
    "    try:\n",
    "        time.sleep(.5)\n",
    "        response = requests.post(url,data=json.dumps(body),headers=headers, timeout=5)\n",
    "        print(response.status_code)\n",
    "        data = json.loads(response.content)\n",
    "        #import ipdb;ipdb.set_trace()\n",
    "        \n",
    "        FT_ID = [(query_string,resp['id']) for resp in data['results'][0]['results']]\n",
    "        number_results = data['results'][0]['indexCount']\n",
    "        print (\"number_results : \",str(number_results))\n",
    "    except Exception as e:\n",
    "        print(e)\n",
    "        print('---'*20)\n",
    "        print('ERROR')\n",
    "        print (e)\n",
    "        \n",
    "    return FT_ID, number_results"
   ]
  },
  {
   "cell_type": "code",
   "execution_count": null,
   "metadata": {},
   "outputs": [],
   "source": [
    "def get_monthly_result(start_date):\n",
    "    results = []\n",
    "    date_range_month = set_date_range(start_date)\n",
    "    \n",
    "    query_string = TOPICS_string + date_range_month\n",
    "    print(date_range_month)\n",
    "    result_0, number_results= get_FT_ID(query_string,offset=0)\n",
    "    results +=result_0\n",
    "    \n",
    "    for i in range(100,number_results,100):\n",
    "        \n",
    "        result,_ = get_FT_ID(query_string,offset=i)\n",
    "        results +=result\n",
    "    return results"
   ]
  },
  {
   "cell_type": "code",
   "execution_count": null,
   "metadata": {},
   "outputs": [],
   "source": [
    "all_months_results = []\n",
    "\n",
    "for date_month in dates:\n",
    "    all_months_results += get_monthly_result(date_month)"
   ]
  },
  {
   "cell_type": "code",
   "execution_count": null,
   "metadata": {},
   "outputs": [],
   "source": [
    "df = pd.DataFrame(all_months_results)\n",
    "df.info()"
   ]
  },
  {
   "cell_type": "code",
   "execution_count": null,
   "metadata": {},
   "outputs": [],
   "source": [
    "df.to_csv('FT_ID_{0}.csv'.format('_'.join(TOPICS)))"
   ]
  },
  {
   "cell_type": "code",
   "execution_count": null,
   "metadata": {},
   "outputs": [],
   "source": [
    "uuid= df[1].tail(1).values[0]"
   ]
  },
  {
   "cell_type": "code",
   "execution_count": null,
   "metadata": {},
   "outputs": [],
   "source": [
    "comment = retrieve_Livefyre_comment(uuid)"
   ]
  },
  {
   "cell_type": "code",
   "execution_count": null,
   "metadata": {},
   "outputs": [],
   "source": [
    "comment"
   ]
  },
  {
   "cell_type": "markdown",
   "metadata": {},
   "source": [
    "## LiveFyre API"
   ]
  },
  {
   "cell_type": "code",
   "execution_count": null,
   "metadata": {},
   "outputs": [],
   "source": [
    "def retrieve_Livefyre_comment(ft_ID):\n",
    "    comment_data =\"\"\n",
    "    url_FT_to_Livefyre = 'https://session-user-data.webservices.ft.com/v1/livefyre/get_lf_bootstrap?uuid='\n",
    "    try:\n",
    "        response_livefyreID = (requests.get(url_FT_to_Livefyre+str(ft_ID),timeout=5)).content\n",
    "        liverfyre_comments_url =   (json.loads(response_livefyreID))['url'].replace('bootstrap.html','init').replace('https','http')\n",
    "        response_livefyre_comment = requests.get(liverfyre_comments_url,timeout=5)\n",
    "        comment_data = json.loads(response_livefyre_comment.content)\n",
    "        \n",
    "    except Exception as e:\n",
    "        print(\"error\")\n",
    "    \n",
    "    return (response_livefyreID,comment_data['collectionSettings']['title'],comment_data[u'headDocument'])"
   ]
  },
  {
   "cell_type": "code",
   "execution_count": null,
   "metadata": {},
   "outputs": [],
   "source": []
  },
  {
   "cell_type": "code",
   "execution_count": null,
   "metadata": {},
   "outputs": [],
   "source": [
    "def get_ALL_COMMENTS():\n",
    "    df = pd.read_csv('ALL_FT_IDS.csv',index_col=0)\n",
    "    ALL_FT_IDS = df.FT_ID.tolist()\n",
    "    ALL_FT_IDS.sort()\n",
    "    LIVEFYRE = []\n",
    "    for i,ft_id in enumerate(ALL_FT_IDS):\n",
    "        if i>=20500:\n",
    "\n",
    "            try:\n",
    "                comment_data = retrieve_Livefyre_comment(ft_id)\n",
    "                LIVEFYRE.append((ft_id,comment_data[0],comment_data[1],comment_data[2]))\n",
    "            except Exception as e:\n",
    "                print e\n",
    "\n",
    "\n",
    "            if i%500==0:\n",
    "\n",
    "                df_checkpoint = pd.DataFrame(LIVEFYRE,columns=['FT_ID','LIVEFYRE_ID','title','comments'])\n",
    "                df_checkpoint.to_csv('df_'+str(i)+'.csv', encoding='utf-8')\n",
    "                print \"Checkpoint at : \", i*100.0/len(ALL_FT_IDS)\n",
    "\n",
    "    "
   ]
  },
  {
   "cell_type": "code",
   "execution_count": null,
   "metadata": {},
   "outputs": [],
   "source": [
    "get_ALL_COMMENTS()"
   ]
  }
 ],
 "metadata": {
  "anaconda-cloud": {},
  "kernelspec": {
   "display_name": "Python 3",
   "language": "python",
   "name": "python3"
  },
  "language_info": {
   "codemirror_mode": {
    "name": "ipython",
    "version": 3
   },
   "file_extension": ".py",
   "mimetype": "text/x-python",
   "name": "python",
   "nbconvert_exporter": "python",
   "pygments_lexer": "ipython3",
   "version": "3.6.5"
  }
 },
 "nbformat": 4,
 "nbformat_minor": 2
}
