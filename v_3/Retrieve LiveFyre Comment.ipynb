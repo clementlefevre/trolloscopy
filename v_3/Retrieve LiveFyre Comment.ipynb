{
 "cells": [
  {
   "cell_type": "markdown",
   "metadata": {},
   "source": [
    "# LiveFyre Comments API"
   ]
  },
  {
   "cell_type": "markdown",
   "metadata": {},
   "source": [
    "Once we retrieve the ID of the FT Articles, we can call the LiveFyre API"
   ]
  },
  {
   "cell_type": "code",
   "execution_count": 1,
   "metadata": {},
   "outputs": [],
   "source": [
    "import logging\n",
    "from os import listdir\n",
    "from os.path import isfile, join\n",
    "import requests\n",
    "import time\n",
    "import datetime\n",
    "import json\n",
    "import pandas as pd\n",
    "import pickle\n",
    "import sqlite3\n",
    "from pandas.io.json import json_normalize\n",
    "\n",
    "logging.basicConfig(filename='livefyre_API.log',level=logging.DEBUG,format='%(asctime)s:%(levelname)s:%(message)s' )"
   ]
  },
  {
   "cell_type": "markdown",
   "metadata": {},
   "source": [
    "## Load FT IDs"
   ]
  },
  {
   "cell_type": "code",
   "execution_count": 2,
   "metadata": {},
   "outputs": [],
   "source": [
    "FT_ID_FILES_FOLDER = 'FT_ID'\n",
    "onlyfiles = [f for f in listdir(FT_ID_FILES_FOLDER) if isfile(join(FT_ID_FILES_FOLDER, f))]"
   ]
  },
  {
   "cell_type": "code",
   "execution_count": 3,
   "metadata": {},
   "outputs": [],
   "source": [
    "def read_all_FT_IDS():\n",
    "    df_FT_IDS = pd.DataFrame()\n",
    "\n",
    "    for f in onlyfiles:\n",
    "        df = pd.read_csv(FT_ID_FILES_FOLDER+\"/\"+f, index_col=0)\n",
    "        df_FT_IDS = pd.concat([df_FT_IDS,df],axis=0)\n",
    "    df_FT_IDS.columns=['topic','ft_id']\n",
    "    df_FT_IDS = df_FT_IDS.drop_duplicates('ft_id')\n",
    "    return df_FT_IDS"
   ]
  },
  {
   "cell_type": "code",
   "execution_count": 4,
   "metadata": {},
   "outputs": [],
   "source": [
    "def get_livefyre_URL(ft_id):\n",
    "    comment_data =\"\"\n",
    "    url_FT_to_Livefyre = 'https://session-user-data.webservices.ft.com/v1/livefyre/get_lf_bootstrap?uuid='\n",
    "    try:\n",
    "        response_livefyreID = (requests.get(url_FT_to_Livefyre+str(ft_id),timeout=5)).content\n",
    "        liverfyre_comments_url =   (json.loads(response_livefyreID))['url'].replace('bootstrap.html','init').replace('https','http')\n",
    "  \n",
    "        \n",
    "    except Exception as e:\n",
    "        logging.error(e)\n",
    "    \n",
    "    return (liverfyre_comments_url)\n",
    "    "
   ]
  },
  {
   "cell_type": "code",
   "execution_count": 5,
   "metadata": {},
   "outputs": [],
   "source": [
    "def get_livefyre_metadata(livefyre_url):\n",
    "    response_content = ''\n",
    "    comment_data ={}\n",
    "    try:\n",
    "        response_livefyre_Metadata = (requests.get(livefyre_url,timeout=5))\n",
    "        #print( print(response_livefyre_Metadata.status_code))\n",
    "        response_content = json.loads(response_livefyre_Metadata.content)\n",
    "\n",
    "\n",
    "    except Exception as e:\n",
    "        logging.error(e)\n",
    "\n",
    "    comment_data['ft_id']=response_content['collectionSettings']['url']\n",
    "    comment_data['title']= response_content['collectionSettings']['title']\n",
    "    comment_data['livefyreID'] = livefyre_url.split('/')[-2]\n",
    "    comment_data['archives_data']= response_content['collectionSettings']['archiveInfo']\n",
    "\n",
    "    return (comment_data)\n",
    "    "
   ]
  },
  {
   "cell_type": "code",
   "execution_count": 6,
   "metadata": {},
   "outputs": [],
   "source": [
    "def get_livefyre_data_json(livefyre_metadata):\n",
    "    comments = []\n",
    "    BASE_LIVEFYRE_URL = 'http://bootstrap.ft.fyre.co/bs3'\n",
    "    number_json_url = livefyre_metadata['archives_data']['nPages']\n",
    "    \n",
    "    for i in range(0,number_json_url):\n",
    "        \n",
    "    \n",
    "        try:\n",
    "            livefyre_url_json = BASE_LIVEFYRE_URL+livefyre_metadata['archives_data']['pageInfo'][str(i)]['url']\n",
    "            # the structure of the json given by PageInfo is nested. Very bad for pandas, we change :\n",
    "            livefyre_url_json = livefyre_url_json.replace('bootstrap.ft.fyre.co/bs3/ft.fyre.co/','data.livefyre.com/bs3/v3.1/ft.fyre.co/')\n",
    "            logging.info(livefyre_url_json)                                           \n",
    "            response_livefyreID = requests.get(livefyre_url_json,timeout=5)\n",
    "            logging.info(str(response_livefyreID.status_code))\n",
    "            response_content = response_livefyreID.json()\n",
    "            comments.append(response_content)\n",
    "\n",
    "        except Exception as e:\n",
    "            logging.error(e)\n",
    "    \n",
    "   \n",
    "    return (comments)\n",
    "    "
   ]
  },
  {
   "cell_type": "markdown",
   "metadata": {},
   "source": [
    "## Parse LiveFyre Response"
   ]
  },
  {
   "cell_type": "markdown",
   "metadata": {},
   "source": [
    "### Authors"
   ]
  },
  {
   "cell_type": "code",
   "execution_count": 7,
   "metadata": {},
   "outputs": [],
   "source": [
    "def get_authors(data):\n",
    "    df_all_authors=pd.DataFrame()\n",
    "    for d in data :\n",
    "        df = pd.DataFrame(d['authors']).T\n",
    "        df = df[['displayName']].reset_index()\n",
    "        df.columns = ['author_id','displayName']\n",
    "        df_all_authors = pd.concat([df_all_authors,df],axis=0)\n",
    "    df_all_authors = df_all_authors.drop_duplicates('author_id')\n",
    "    return df"
   ]
  },
  {
   "cell_type": "markdown",
   "metadata": {},
   "source": [
    "## Content"
   ]
  },
  {
   "cell_type": "code",
   "execution_count": 8,
   "metadata": {},
   "outputs": [],
   "source": [
    "def get_comments_and_likes(data):\n",
    "    df_all_comments=pd.DataFrame()\n",
    "    for d in data :\n",
    "    \n",
    "        df_comments = pd.DataFrame(d['content']).content.apply(pd.Series)\n",
    "        #df_comments = df_comments[~df_comments.authorId.isnull()]\n",
    "        df_liked_by = df_comments.annotations.apply(pd.Series)\n",
    "        df_comments_and_liked_by = pd.concat([df_comments, df_liked_by],axis=1, sort=True)\n",
    "        #df_comments_and_liked_by = df_comments_and_liked_by.drop(['annotations','generator'], 1)\n",
    "        df_all_comments = pd.concat([df_all_comments,df_comments_and_liked_by],axis=0, sort=True)\n",
    "   \n",
    "        \n",
    "    df_all_comments = df_all_comments.drop_duplicates('id')\n",
    "    \n",
    "    return df_all_comments"
   ]
  },
  {
   "cell_type": "markdown",
   "metadata": {},
   "source": [
    "## Retrieve all livefyre comments using the FT articles IDs"
   ]
  },
  {
   "cell_type": "code",
   "execution_count": 9,
   "metadata": {},
   "outputs": [],
   "source": [
    "def get_ALL_COMMENTS():\n",
    "    \n",
    "    df_FT_IDS = read_all_FT_IDS()\n",
    "    ALL_FT_IDS= df_FT_IDS['ft_id'].sort_values().tolist()\n",
    "    print(ALL_FT_IDS[:10])\n",
    "    df_all_authors = pd.DataFrame()\n",
    "    df_all_comments = pd.DataFrame()\n",
    "    for i,ft_id in enumerate(ALL_FT_IDS):\n",
    "        #if i>=20500:\n",
    "\n",
    "        try:\n",
    "            livefyre_url = get_livefyre_URL(ft_id)\n",
    "            livefyre_metadata = get_livefyre_metadata(livefyre_url)\n",
    "            livefyre_data = get_livefyre_data_json(livefyre_metadata)\n",
    "            df_authors = get_authors(livefyre_data)\n",
    "            df_comments = get_comments_and_likes(livefyre_data)\n",
    "            df_comments['ft_id']= ft_id\n",
    "\n",
    "            df_all_authors = pd.concat([df_all_authors,df_authors],axis=0,sort=True)\n",
    "            df_all_comments = pd.concat([df_all_comments,df_comments],axis=0,sort=True)\n",
    "\n",
    "        except Exception as e:\n",
    "            logging.error('error at i= %s for ft_url =  %s', str(i), str(ft_id))\n",
    "            logging.error(e)\n",
    "\n",
    "\n",
    "        if i%500==0:\n",
    "\n",
    "\n",
    "            df_all_authors.to_csv('df_authors_'+str(i)+'.csv', encoding='utf-8',sep=';')\n",
    "            df_all_comments.to_csv('df_comments_'+str(i)+'.csv', encoding='utf-8',sep=';')\n",
    "            logging.info(\"Checkpoint at : {0:10.2f}% - i={1} of {2}\".format(i*100.0/len(ALL_FT_IDS),i,len(ALL_FT_IDS)))\n",
    "            \n",
    "    df_all_authors.to_csv('df_authors_'+str(i)+'.csv', encoding='utf-8',sep=';')\n",
    "    df_all_comments.to_csv('df_comments_'+str(i)+'.csv', encoding='utf-8',sep=';')\n"
   ]
  },
  {
   "cell_type": "code",
   "execution_count": null,
   "metadata": {
    "scrolled": true
   },
   "outputs": [
    {
     "name": "stdout",
     "output_type": "stream",
     "text": [
      "['000137ba-1eb6-11e6-b286-cddde55ca122', '0002f9ce-214d-11e8-9efc-0cd3483b8b80', '0007a1c4-4fcf-11e5-8642-453585f2cfcd', '00096d84-7453-11e6-bf48-b372cdb1043a', '0009bce4-a568-11e6-8b69-02899e8bd9d1', '000b3e02-a6fb-11e8-8ecf-a7ae1beff35b', '000ef766-ff86-11e8-ac00-57a2a826423e', '001082a6-9c29-11e6-8324-be63473ce146', '0010aafc-b90a-11e7-8c12-5661783e5589', '00112928-f1ab-11e5-9f20-c3a047354386']\n"
     ]
    },
    {
     "name": "stderr",
     "output_type": "stream",
     "text": [
      "C:\\Users\\ClementLefevre\\AppData\\Local\\Continuum\\anaconda3\\lib\\site-packages\\pandas\\core\\indexes\\api.py:69: RuntimeWarning: '<' not supported between instances of 'str' and 'int', sort order is undefined for incomparable objects\n",
      "  index = _union_indexes(indexes, sort=sort)\n",
      "C:\\Users\\ClementLefevre\\AppData\\Local\\Continuum\\anaconda3\\lib\\site-packages\\pandas\\core\\indexes\\api.py:107: RuntimeWarning: '<' not supported between instances of 'str' and 'int', sort order is undefined for incomparable objects\n",
      "  result = result.union(other)\n",
      "C:\\Users\\ClementLefevre\\AppData\\Local\\Continuum\\anaconda3\\lib\\site-packages\\pandas\\core\\indexes\\api.py:69: RuntimeWarning: '<' not supported between instances of 'int' and 'str', sort order is undefined for incomparable objects\n",
      "  index = _union_indexes(indexes, sort=sort)\n",
      "C:\\Users\\ClementLefevre\\AppData\\Local\\Continuum\\anaconda3\\lib\\site-packages\\pandas\\core\\indexes\\api.py:107: RuntimeWarning: '<' not supported between instances of 'int' and 'str', sort order is undefined for incomparable objects\n",
      "  result = result.union(other)\n",
      "C:\\Users\\ClementLefevre\\AppData\\Local\\Continuum\\anaconda3\\lib\\site-packages\\pandas\\core\\indexes\\range.py:465: RuntimeWarning: '<' not supported between instances of 'int' and 'str', sort order is undefined for incomparable objects\n",
      "  return self._int64index.union(other)\n"
     ]
    }
   ],
   "source": [
    "get_ALL_COMMENTS()"
   ]
  },
  {
   "cell_type": "code",
   "execution_count": null,
   "metadata": {},
   "outputs": [],
   "source": [
    "df_test = pd.read_csv('df_comments_5.csv',sep=';',index_col=0)"
   ]
  },
  {
   "cell_type": "code",
   "execution_count": null,
   "metadata": {
    "scrolled": false
   },
   "outputs": [],
   "source": [
    "df_test.head()"
   ]
  },
  {
   "cell_type": "code",
   "execution_count": null,
   "metadata": {},
   "outputs": [],
   "source": [
    "df_test.columns"
   ]
  }
 ],
 "metadata": {
  "kernelspec": {
   "display_name": "Python 3",
   "language": "python",
   "name": "python3"
  },
  "language_info": {
   "codemirror_mode": {
    "name": "ipython",
    "version": 3
   },
   "file_extension": ".py",
   "mimetype": "text/x-python",
   "name": "python",
   "nbconvert_exporter": "python",
   "pygments_lexer": "ipython3",
   "version": "3.6.5"
  }
 },
 "nbformat": 4,
 "nbformat_minor": 2
}
